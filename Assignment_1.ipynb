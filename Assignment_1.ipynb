{
  "nbformat": 4,
  "nbformat_minor": 0,
  "metadata": {
    "colab": {
      "name": " Assignment 1",
      "provenance": [],
      "collapsed_sections": [],
      "authorship_tag": "ABX9TyM6idwm0IQel/Cs4UBP+YrR",
      "include_colab_link": true
    },
    "kernelspec": {
      "name": "python3",
      "display_name": "Python 3"
    },
    "language_info": {
      "name": "python"
    }
  },
  "cells": [
    {
      "cell_type": "markdown",
      "metadata": {
        "id": "view-in-github",
        "colab_type": "text"
      },
      "source": [
        "<a href=\"https://colab.research.google.com/github/menaga-1203/MLnow_2.0/blob/main/Assignment_1.ipynb\" target=\"_parent\"><img src=\"https://colab.research.google.com/assets/colab-badge.svg\" alt=\"Open In Colab\"/></a>"
      ]
    },
    {
      "cell_type": "markdown",
      "metadata": {
        "id": "0DppYaku2p34"
      },
      "source": [
        "This dataset contains the data of different exams and chance of getting admission in universities\n",
        "the model is trained to find the error when sop is plotted against cgpa"
      ]
    },
    {
      "cell_type": "code",
      "metadata": {
        "colab": {
          "base_uri": "https://localhost:8080/"
        },
        "id": "gibw9UT5Ax7u",
        "outputId": "ed9e7ab2-7996-4a8a-bff7-c4b973ce780b"
      },
      "source": [
        "from google.colab import drive\n",
        "drive.mount('/content/drive/')"
      ],
      "execution_count": 93,
      "outputs": [
        {
          "output_type": "stream",
          "text": [
            "Drive already mounted at /content/drive/; to attempt to forcibly remount, call drive.mount(\"/content/drive/\", force_remount=True).\n"
          ],
          "name": "stdout"
        }
      ]
    },
    {
      "cell_type": "code",
      "metadata": {
        "colab": {
          "base_uri": "https://localhost:8080/"
        },
        "id": "LMm0G2dGCwuH",
        "outputId": "d3a4a468-deab-42a9-fa4b-735a3ce91256"
      },
      "source": [
        "cd'/content/drive/MyDrive/Colab Notebooks/lr'"
      ],
      "execution_count": 94,
      "outputs": [
        {
          "output_type": "stream",
          "text": [
            "/content/drive/MyDrive/Colab Notebooks/lr\n"
          ],
          "name": "stdout"
        }
      ]
    },
    {
      "cell_type": "code",
      "metadata": {
        "colab": {
          "base_uri": "https://localhost:8080/"
        },
        "id": "W2qcK64OFMph",
        "outputId": "881309c5-5fa2-48e3-deed-720bdd0c6a08"
      },
      "source": [
        "ls"
      ],
      "execution_count": 95,
      "outputs": [
        {
          "output_type": "stream",
          "text": [
            "Admission_Predict_1  Admission_Predict.csv  Admission_Predict_Ver1.1.csv\n"
          ],
          "name": "stdout"
        }
      ]
    },
    {
      "cell_type": "code",
      "metadata": {
        "id": "-5sS1tk0Fv3s"
      },
      "source": [
        "import os\n",
        "import pandas as pd\n",
        "import numpy as np\n",
        "import tensorflow as tf\n",
        "from tensorflow import keras\n",
        "import os"
      ],
      "execution_count": 96,
      "outputs": []
    },
    {
      "cell_type": "markdown",
      "metadata": {
        "id": "cKYAyJVQ2Mex"
      },
      "source": [
        ""
      ]
    },
    {
      "cell_type": "code",
      "metadata": {
        "id": "duqVXdxoGUDf"
      },
      "source": [
        "ad=pd.read_csv('Admission_Predict.csv',sep=',')"
      ],
      "execution_count": 97,
      "outputs": []
    },
    {
      "cell_type": "code",
      "metadata": {
        "id": "CiMIjlb1Ij-m",
        "colab": {
          "base_uri": "https://localhost:8080/",
          "height": 204
        },
        "outputId": "60bcfd74-f4b7-4533-d51d-17a023101087"
      },
      "source": [
        "ad.head(5)"
      ],
      "execution_count": 98,
      "outputs": [
        {
          "output_type": "execute_result",
          "data": {
            "text/html": [
              "<div>\n",
              "<style scoped>\n",
              "    .dataframe tbody tr th:only-of-type {\n",
              "        vertical-align: middle;\n",
              "    }\n",
              "\n",
              "    .dataframe tbody tr th {\n",
              "        vertical-align: top;\n",
              "    }\n",
              "\n",
              "    .dataframe thead th {\n",
              "        text-align: right;\n",
              "    }\n",
              "</style>\n",
              "<table border=\"1\" class=\"dataframe\">\n",
              "  <thead>\n",
              "    <tr style=\"text-align: right;\">\n",
              "      <th></th>\n",
              "      <th>Serial No.</th>\n",
              "      <th>GRE Score</th>\n",
              "      <th>TOEFL Score</th>\n",
              "      <th>University Rating</th>\n",
              "      <th>SOP</th>\n",
              "      <th>LOR</th>\n",
              "      <th>CGPA</th>\n",
              "      <th>Research</th>\n",
              "      <th>Chance of Admit</th>\n",
              "    </tr>\n",
              "  </thead>\n",
              "  <tbody>\n",
              "    <tr>\n",
              "      <th>0</th>\n",
              "      <td>1</td>\n",
              "      <td>337</td>\n",
              "      <td>118</td>\n",
              "      <td>4</td>\n",
              "      <td>4.5</td>\n",
              "      <td>4.5</td>\n",
              "      <td>9.65</td>\n",
              "      <td>1</td>\n",
              "      <td>0.92</td>\n",
              "    </tr>\n",
              "    <tr>\n",
              "      <th>1</th>\n",
              "      <td>2</td>\n",
              "      <td>324</td>\n",
              "      <td>107</td>\n",
              "      <td>4</td>\n",
              "      <td>4.0</td>\n",
              "      <td>4.5</td>\n",
              "      <td>8.87</td>\n",
              "      <td>1</td>\n",
              "      <td>0.76</td>\n",
              "    </tr>\n",
              "    <tr>\n",
              "      <th>2</th>\n",
              "      <td>3</td>\n",
              "      <td>316</td>\n",
              "      <td>104</td>\n",
              "      <td>3</td>\n",
              "      <td>3.0</td>\n",
              "      <td>3.5</td>\n",
              "      <td>8.00</td>\n",
              "      <td>1</td>\n",
              "      <td>0.72</td>\n",
              "    </tr>\n",
              "    <tr>\n",
              "      <th>3</th>\n",
              "      <td>4</td>\n",
              "      <td>322</td>\n",
              "      <td>110</td>\n",
              "      <td>3</td>\n",
              "      <td>3.5</td>\n",
              "      <td>2.5</td>\n",
              "      <td>8.67</td>\n",
              "      <td>1</td>\n",
              "      <td>0.80</td>\n",
              "    </tr>\n",
              "    <tr>\n",
              "      <th>4</th>\n",
              "      <td>5</td>\n",
              "      <td>314</td>\n",
              "      <td>103</td>\n",
              "      <td>2</td>\n",
              "      <td>2.0</td>\n",
              "      <td>3.0</td>\n",
              "      <td>8.21</td>\n",
              "      <td>0</td>\n",
              "      <td>0.65</td>\n",
              "    </tr>\n",
              "  </tbody>\n",
              "</table>\n",
              "</div>"
            ],
            "text/plain": [
              "   Serial No.  GRE Score  TOEFL Score  ...  CGPA  Research  Chance of Admit \n",
              "0           1        337          118  ...  9.65         1              0.92\n",
              "1           2        324          107  ...  8.87         1              0.76\n",
              "2           3        316          104  ...  8.00         1              0.72\n",
              "3           4        322          110  ...  8.67         1              0.80\n",
              "4           5        314          103  ...  8.21         0              0.65\n",
              "\n",
              "[5 rows x 9 columns]"
            ]
          },
          "metadata": {
            "tags": []
          },
          "execution_count": 98
        }
      ]
    },
    {
      "cell_type": "code",
      "metadata": {
        "colab": {
          "base_uri": "https://localhost:8080/",
          "height": 204
        },
        "id": "znBYaInzMMDW",
        "outputId": "9e6802b5-508c-439a-87f9-36648e4251e3"
      },
      "source": [
        "ad.tail()"
      ],
      "execution_count": 99,
      "outputs": [
        {
          "output_type": "execute_result",
          "data": {
            "text/html": [
              "<div>\n",
              "<style scoped>\n",
              "    .dataframe tbody tr th:only-of-type {\n",
              "        vertical-align: middle;\n",
              "    }\n",
              "\n",
              "    .dataframe tbody tr th {\n",
              "        vertical-align: top;\n",
              "    }\n",
              "\n",
              "    .dataframe thead th {\n",
              "        text-align: right;\n",
              "    }\n",
              "</style>\n",
              "<table border=\"1\" class=\"dataframe\">\n",
              "  <thead>\n",
              "    <tr style=\"text-align: right;\">\n",
              "      <th></th>\n",
              "      <th>Serial No.</th>\n",
              "      <th>GRE Score</th>\n",
              "      <th>TOEFL Score</th>\n",
              "      <th>University Rating</th>\n",
              "      <th>SOP</th>\n",
              "      <th>LOR</th>\n",
              "      <th>CGPA</th>\n",
              "      <th>Research</th>\n",
              "      <th>Chance of Admit</th>\n",
              "    </tr>\n",
              "  </thead>\n",
              "  <tbody>\n",
              "    <tr>\n",
              "      <th>395</th>\n",
              "      <td>396</td>\n",
              "      <td>324</td>\n",
              "      <td>110</td>\n",
              "      <td>3</td>\n",
              "      <td>3.5</td>\n",
              "      <td>3.5</td>\n",
              "      <td>9.04</td>\n",
              "      <td>1</td>\n",
              "      <td>0.82</td>\n",
              "    </tr>\n",
              "    <tr>\n",
              "      <th>396</th>\n",
              "      <td>397</td>\n",
              "      <td>325</td>\n",
              "      <td>107</td>\n",
              "      <td>3</td>\n",
              "      <td>3.0</td>\n",
              "      <td>3.5</td>\n",
              "      <td>9.11</td>\n",
              "      <td>1</td>\n",
              "      <td>0.84</td>\n",
              "    </tr>\n",
              "    <tr>\n",
              "      <th>397</th>\n",
              "      <td>398</td>\n",
              "      <td>330</td>\n",
              "      <td>116</td>\n",
              "      <td>4</td>\n",
              "      <td>5.0</td>\n",
              "      <td>4.5</td>\n",
              "      <td>9.45</td>\n",
              "      <td>1</td>\n",
              "      <td>0.91</td>\n",
              "    </tr>\n",
              "    <tr>\n",
              "      <th>398</th>\n",
              "      <td>399</td>\n",
              "      <td>312</td>\n",
              "      <td>103</td>\n",
              "      <td>3</td>\n",
              "      <td>3.5</td>\n",
              "      <td>4.0</td>\n",
              "      <td>8.78</td>\n",
              "      <td>0</td>\n",
              "      <td>0.67</td>\n",
              "    </tr>\n",
              "    <tr>\n",
              "      <th>399</th>\n",
              "      <td>400</td>\n",
              "      <td>333</td>\n",
              "      <td>117</td>\n",
              "      <td>4</td>\n",
              "      <td>5.0</td>\n",
              "      <td>4.0</td>\n",
              "      <td>9.66</td>\n",
              "      <td>1</td>\n",
              "      <td>0.95</td>\n",
              "    </tr>\n",
              "  </tbody>\n",
              "</table>\n",
              "</div>"
            ],
            "text/plain": [
              "     Serial No.  GRE Score  TOEFL Score  ...  CGPA  Research  Chance of Admit \n",
              "395         396        324          110  ...  9.04         1              0.82\n",
              "396         397        325          107  ...  9.11         1              0.84\n",
              "397         398        330          116  ...  9.45         1              0.91\n",
              "398         399        312          103  ...  8.78         0              0.67\n",
              "399         400        333          117  ...  9.66         1              0.95\n",
              "\n",
              "[5 rows x 9 columns]"
            ]
          },
          "metadata": {
            "tags": []
          },
          "execution_count": 99
        }
      ]
    },
    {
      "cell_type": "code",
      "metadata": {
        "colab": {
          "base_uri": "https://localhost:8080/",
          "height": 419
        },
        "id": "AYokHmg-MWpy",
        "outputId": "380c9d33-c8a2-487f-d3af-212d28ea4fbc"
      },
      "source": [
        "ad.isnull()"
      ],
      "execution_count": 100,
      "outputs": [
        {
          "output_type": "execute_result",
          "data": {
            "text/html": [
              "<div>\n",
              "<style scoped>\n",
              "    .dataframe tbody tr th:only-of-type {\n",
              "        vertical-align: middle;\n",
              "    }\n",
              "\n",
              "    .dataframe tbody tr th {\n",
              "        vertical-align: top;\n",
              "    }\n",
              "\n",
              "    .dataframe thead th {\n",
              "        text-align: right;\n",
              "    }\n",
              "</style>\n",
              "<table border=\"1\" class=\"dataframe\">\n",
              "  <thead>\n",
              "    <tr style=\"text-align: right;\">\n",
              "      <th></th>\n",
              "      <th>Serial No.</th>\n",
              "      <th>GRE Score</th>\n",
              "      <th>TOEFL Score</th>\n",
              "      <th>University Rating</th>\n",
              "      <th>SOP</th>\n",
              "      <th>LOR</th>\n",
              "      <th>CGPA</th>\n",
              "      <th>Research</th>\n",
              "      <th>Chance of Admit</th>\n",
              "    </tr>\n",
              "  </thead>\n",
              "  <tbody>\n",
              "    <tr>\n",
              "      <th>0</th>\n",
              "      <td>False</td>\n",
              "      <td>False</td>\n",
              "      <td>False</td>\n",
              "      <td>False</td>\n",
              "      <td>False</td>\n",
              "      <td>False</td>\n",
              "      <td>False</td>\n",
              "      <td>False</td>\n",
              "      <td>False</td>\n",
              "    </tr>\n",
              "    <tr>\n",
              "      <th>1</th>\n",
              "      <td>False</td>\n",
              "      <td>False</td>\n",
              "      <td>False</td>\n",
              "      <td>False</td>\n",
              "      <td>False</td>\n",
              "      <td>False</td>\n",
              "      <td>False</td>\n",
              "      <td>False</td>\n",
              "      <td>False</td>\n",
              "    </tr>\n",
              "    <tr>\n",
              "      <th>2</th>\n",
              "      <td>False</td>\n",
              "      <td>False</td>\n",
              "      <td>False</td>\n",
              "      <td>False</td>\n",
              "      <td>False</td>\n",
              "      <td>False</td>\n",
              "      <td>False</td>\n",
              "      <td>False</td>\n",
              "      <td>False</td>\n",
              "    </tr>\n",
              "    <tr>\n",
              "      <th>3</th>\n",
              "      <td>False</td>\n",
              "      <td>False</td>\n",
              "      <td>False</td>\n",
              "      <td>False</td>\n",
              "      <td>False</td>\n",
              "      <td>False</td>\n",
              "      <td>False</td>\n",
              "      <td>False</td>\n",
              "      <td>False</td>\n",
              "    </tr>\n",
              "    <tr>\n",
              "      <th>4</th>\n",
              "      <td>False</td>\n",
              "      <td>False</td>\n",
              "      <td>False</td>\n",
              "      <td>False</td>\n",
              "      <td>False</td>\n",
              "      <td>False</td>\n",
              "      <td>False</td>\n",
              "      <td>False</td>\n",
              "      <td>False</td>\n",
              "    </tr>\n",
              "    <tr>\n",
              "      <th>...</th>\n",
              "      <td>...</td>\n",
              "      <td>...</td>\n",
              "      <td>...</td>\n",
              "      <td>...</td>\n",
              "      <td>...</td>\n",
              "      <td>...</td>\n",
              "      <td>...</td>\n",
              "      <td>...</td>\n",
              "      <td>...</td>\n",
              "    </tr>\n",
              "    <tr>\n",
              "      <th>395</th>\n",
              "      <td>False</td>\n",
              "      <td>False</td>\n",
              "      <td>False</td>\n",
              "      <td>False</td>\n",
              "      <td>False</td>\n",
              "      <td>False</td>\n",
              "      <td>False</td>\n",
              "      <td>False</td>\n",
              "      <td>False</td>\n",
              "    </tr>\n",
              "    <tr>\n",
              "      <th>396</th>\n",
              "      <td>False</td>\n",
              "      <td>False</td>\n",
              "      <td>False</td>\n",
              "      <td>False</td>\n",
              "      <td>False</td>\n",
              "      <td>False</td>\n",
              "      <td>False</td>\n",
              "      <td>False</td>\n",
              "      <td>False</td>\n",
              "    </tr>\n",
              "    <tr>\n",
              "      <th>397</th>\n",
              "      <td>False</td>\n",
              "      <td>False</td>\n",
              "      <td>False</td>\n",
              "      <td>False</td>\n",
              "      <td>False</td>\n",
              "      <td>False</td>\n",
              "      <td>False</td>\n",
              "      <td>False</td>\n",
              "      <td>False</td>\n",
              "    </tr>\n",
              "    <tr>\n",
              "      <th>398</th>\n",
              "      <td>False</td>\n",
              "      <td>False</td>\n",
              "      <td>False</td>\n",
              "      <td>False</td>\n",
              "      <td>False</td>\n",
              "      <td>False</td>\n",
              "      <td>False</td>\n",
              "      <td>False</td>\n",
              "      <td>False</td>\n",
              "    </tr>\n",
              "    <tr>\n",
              "      <th>399</th>\n",
              "      <td>False</td>\n",
              "      <td>False</td>\n",
              "      <td>False</td>\n",
              "      <td>False</td>\n",
              "      <td>False</td>\n",
              "      <td>False</td>\n",
              "      <td>False</td>\n",
              "      <td>False</td>\n",
              "      <td>False</td>\n",
              "    </tr>\n",
              "  </tbody>\n",
              "</table>\n",
              "<p>400 rows × 9 columns</p>\n",
              "</div>"
            ],
            "text/plain": [
              "     Serial No.  GRE Score  TOEFL Score  ...   CGPA  Research  Chance of Admit \n",
              "0         False      False        False  ...  False     False             False\n",
              "1         False      False        False  ...  False     False             False\n",
              "2         False      False        False  ...  False     False             False\n",
              "3         False      False        False  ...  False     False             False\n",
              "4         False      False        False  ...  False     False             False\n",
              "..          ...        ...          ...  ...    ...       ...               ...\n",
              "395       False      False        False  ...  False     False             False\n",
              "396       False      False        False  ...  False     False             False\n",
              "397       False      False        False  ...  False     False             False\n",
              "398       False      False        False  ...  False     False             False\n",
              "399       False      False        False  ...  False     False             False\n",
              "\n",
              "[400 rows x 9 columns]"
            ]
          },
          "metadata": {
            "tags": []
          },
          "execution_count": 100
        }
      ]
    },
    {
      "cell_type": "code",
      "metadata": {
        "colab": {
          "base_uri": "https://localhost:8080/"
        },
        "id": "IK6yupbQMeI9",
        "outputId": "ad767266-d2d8-486a-9ebe-0d004d515598"
      },
      "source": [
        "ad.isnull().sum()"
      ],
      "execution_count": 101,
      "outputs": [
        {
          "output_type": "execute_result",
          "data": {
            "text/plain": [
              "Serial No.           0\n",
              "GRE Score            0\n",
              "TOEFL Score          0\n",
              "University Rating    0\n",
              "SOP                  0\n",
              "LOR                  0\n",
              "CGPA                 0\n",
              "Research             0\n",
              "Chance of Admit      0\n",
              "dtype: int64"
            ]
          },
          "metadata": {
            "tags": []
          },
          "execution_count": 101
        }
      ]
    },
    {
      "cell_type": "code",
      "metadata": {
        "colab": {
          "base_uri": "https://localhost:8080/"
        },
        "id": "OHq5V6BlMr2N",
        "outputId": "90d56e68-56d7-4e45-e495-c613745c24df"
      },
      "source": [
        "ad.columns"
      ],
      "execution_count": 102,
      "outputs": [
        {
          "output_type": "execute_result",
          "data": {
            "text/plain": [
              "Index(['Serial No.', 'GRE Score', 'TOEFL Score', 'University Rating', 'SOP',\n",
              "       'LOR ', 'CGPA', 'Research', 'Chance of Admit '],\n",
              "      dtype='object')"
            ]
          },
          "metadata": {
            "tags": []
          },
          "execution_count": 102
        }
      ]
    },
    {
      "cell_type": "code",
      "metadata": {
        "colab": {
          "base_uri": "https://localhost:8080/",
          "height": 204
        },
        "id": "CALRLA1bLwap",
        "outputId": "46feb8da-db63-4a47-eab5-1f02eda67a5a"
      },
      "source": [
        "ad=ad[['CGPA','SOP']]\n",
        "ad.head()"
      ],
      "execution_count": 103,
      "outputs": [
        {
          "output_type": "execute_result",
          "data": {
            "text/html": [
              "<div>\n",
              "<style scoped>\n",
              "    .dataframe tbody tr th:only-of-type {\n",
              "        vertical-align: middle;\n",
              "    }\n",
              "\n",
              "    .dataframe tbody tr th {\n",
              "        vertical-align: top;\n",
              "    }\n",
              "\n",
              "    .dataframe thead th {\n",
              "        text-align: right;\n",
              "    }\n",
              "</style>\n",
              "<table border=\"1\" class=\"dataframe\">\n",
              "  <thead>\n",
              "    <tr style=\"text-align: right;\">\n",
              "      <th></th>\n",
              "      <th>CGPA</th>\n",
              "      <th>SOP</th>\n",
              "    </tr>\n",
              "  </thead>\n",
              "  <tbody>\n",
              "    <tr>\n",
              "      <th>0</th>\n",
              "      <td>9.65</td>\n",
              "      <td>4.5</td>\n",
              "    </tr>\n",
              "    <tr>\n",
              "      <th>1</th>\n",
              "      <td>8.87</td>\n",
              "      <td>4.0</td>\n",
              "    </tr>\n",
              "    <tr>\n",
              "      <th>2</th>\n",
              "      <td>8.00</td>\n",
              "      <td>3.0</td>\n",
              "    </tr>\n",
              "    <tr>\n",
              "      <th>3</th>\n",
              "      <td>8.67</td>\n",
              "      <td>3.5</td>\n",
              "    </tr>\n",
              "    <tr>\n",
              "      <th>4</th>\n",
              "      <td>8.21</td>\n",
              "      <td>2.0</td>\n",
              "    </tr>\n",
              "  </tbody>\n",
              "</table>\n",
              "</div>"
            ],
            "text/plain": [
              "   CGPA  SOP\n",
              "0  9.65  4.5\n",
              "1  8.87  4.0\n",
              "2  8.00  3.0\n",
              "3  8.67  3.5\n",
              "4  8.21  2.0"
            ]
          },
          "metadata": {
            "tags": []
          },
          "execution_count": 103
        }
      ]
    },
    {
      "cell_type": "code",
      "metadata": {
        "id": "5yABUY0PP-5B"
      },
      "source": [
        "ad.to_csv('Admission_Predict_1')"
      ],
      "execution_count": 104,
      "outputs": []
    },
    {
      "cell_type": "code",
      "metadata": {
        "colab": {
          "base_uri": "https://localhost:8080/"
        },
        "id": "6kPf-_QmQ_cX",
        "outputId": "f106f1e2-12c2-4a01-8d79-832812a4f76e"
      },
      "source": [
        "ls"
      ],
      "execution_count": 105,
      "outputs": [
        {
          "output_type": "stream",
          "text": [
            "Admission_Predict_1  Admission_Predict.csv  Admission_Predict_Ver1.1.csv\n"
          ],
          "name": "stdout"
        }
      ]
    },
    {
      "cell_type": "code",
      "metadata": {
        "colab": {
          "base_uri": "https://localhost:8080/",
          "height": 153
        },
        "id": "mHE-y-UoRDQI",
        "outputId": "ea1db24c-5e1b-4074-fe02-77c2a46def46"
      },
      "source": [
        "import seaborn as sns\n",
        "sns.palplot(sns.color_palette('PuOr'))#purple to orange colors\n",
        "pal=sns.color_palette('PuOr',6)#print 6 color shades from purple to orange\n",
        "pal.as_hex()#set hex code values for colors\n",
        "\n",
        "import matplotlib.pyplot as plt\n",
        "plt.style.use(['seaborn'])\n",
        "sns_colors=['#c6690c','#664697']#orange purple hex codes\n",
        "sns.set_palette(sns_colors)#set the palette as sns_colors\n",
        "sns.palplot(sns.color_palette(sns_colors))#plot the color codes"
      ],
      "execution_count": 106,
      "outputs": [
        {
          "output_type": "display_data",
          "data": {
            "image/png": "[encoded data removed]",
            "text/plain": [
              "<Figure size 432x72 with 1 Axes>"
            ]
          },
          "metadata": {
            "tags": []
          }
        },
        {
          "output_type": "display_data",
          "data": {
            "image/png": "[encoded data removed]",
            "text/plain": [
              "<Figure size 144x72 with 1 Axes>"
            ]
          },
          "metadata": {
            "tags": []
          }
        }
      ]
    },
    {
      "cell_type": "code",
      "metadata": {
        "colab": {
          "base_uri": "https://localhost:8080/",
          "height": 391
        },
        "id": "KJSbzx9MURpX",
        "outputId": "6e3ecc14-f90d-4a10-cb9a-9be147cec056"
      },
      "source": [
        "sns.pairplot(ad,\n",
        "             x_vars=['CGPA','SOP'],\n",
        "             y_vars=['CGPA','SOP'],\n",
        "           diag_kind='kde'\n",
        ")  \n"
      ],
      "execution_count": 107,
      "outputs": [
        {
          "output_type": "execute_result",
          "data": {
            "text/plain": [
              "<seaborn.axisgrid.PairGrid at 0x7fc0523b9a90>"
            ]
          },
          "metadata": {
            "tags": []
          },
          "execution_count": 107
        },
        {
          "output_type": "display_data",
          "data": {
            "image/png": "[encoded data removed]",
            "text/plain": [
              "<Figure size 360x360 with 6 Axes>"
            ]
          },
          "metadata": {
            "tags": []
          }
        }
      ]
    },
    {
      "cell_type": "code",
      "metadata": {
        "colab": {
          "base_uri": "https://localhost:8080/"
        },
        "id": "byotSCvbVyDh",
        "outputId": "574e5b8d-81b1-4c11-bef2-0d1122d93d36"
      },
      "source": [
        "trainDataset=ad.sample(frac=0.8,random_state=0)\n",
        "testDataset=ad.drop(trainDataset.index)\n",
        "\n",
        "print(trainDataset.head())\n",
        "print(testDataset.head())"
      ],
      "execution_count": 108,
      "outputs": [
        {
          "output_type": "stream",
          "text": [
            "     CGPA  SOP\n",
            "132  8.56  3.5\n",
            "309  8.60  3.5\n",
            "341  8.76  3.5\n",
            "196  8.26  3.0\n",
            "246  8.73  3.0\n",
            "    CGPA  SOP\n",
            "9    8.6  3.5\n",
            "25   9.6  4.5\n",
            "28   7.2  2.0\n",
            "31   8.3  4.0\n",
            "32   9.4  3.0\n"
          ],
          "name": "stdout"
        }
      ]
    },
    {
      "cell_type": "code",
      "metadata": {
        "colab": {
          "base_uri": "https://localhost:8080/"
        },
        "id": "7Yph1I6uWpBE",
        "outputId": "129667f0-ca9d-420d-e557-54f3a72f8c25"
      },
      "source": [
        "print(trainDataset.shape)\n",
        "print(testDataset.shape)"
      ],
      "execution_count": 109,
      "outputs": [
        {
          "output_type": "stream",
          "text": [
            "(320, 2)\n",
            "(80, 2)\n"
          ],
          "name": "stdout"
        }
      ]
    },
    {
      "cell_type": "code",
      "metadata": {
        "colab": {
          "base_uri": "https://localhost:8080/"
        },
        "id": "dtPcXBvHX3cs",
        "outputId": "9868083a-0645-4e3a-df16-2d7d363ee637"
      },
      "source": [
        "trainFeatures=trainDataset.copy()\n",
        "testFeatures=testDataset.copy()\n",
        "\n",
        "print(trainFeatures.head())\n",
        "print(testFeatures.head())"
      ],
      "execution_count": 110,
      "outputs": [
        {
          "output_type": "stream",
          "text": [
            "     CGPA  SOP\n",
            "132  8.56  3.5\n",
            "309  8.60  3.5\n",
            "341  8.76  3.5\n",
            "196  8.26  3.0\n",
            "246  8.73  3.0\n",
            "    CGPA  SOP\n",
            "9    8.6  3.5\n",
            "25   9.6  4.5\n",
            "28   7.2  2.0\n",
            "31   8.3  4.0\n",
            "32   9.4  3.0\n"
          ],
          "name": "stdout"
        }
      ]
    },
    {
      "cell_type": "code",
      "metadata": {
        "colab": {
          "base_uri": "https://localhost:8080/"
        },
        "id": "GF2_xuEiYv-u",
        "outputId": "fa9afca7-3278-4a04-9635-356c9c9dc9b0"
      },
      "source": [
        "trainLabels=trainFeatures.pop('SOP')\n",
        "print(trainLabels.head())"
      ],
      "execution_count": 111,
      "outputs": [
        {
          "output_type": "stream",
          "text": [
            "132    3.5\n",
            "309    3.5\n",
            "341    3.5\n",
            "196    3.0\n",
            "246    3.0\n",
            "Name: SOP, dtype: float64\n"
          ],
          "name": "stdout"
        }
      ]
    },
    {
      "cell_type": "code",
      "metadata": {
        "colab": {
          "base_uri": "https://localhost:8080/"
        },
        "id": "QuSnUb_VX1RX",
        "outputId": "749b4ba4-a00f-4a68-fd3c-8057f59f7efe"
      },
      "source": [
        "testLabels=testFeatures.pop('SOP')\n",
        "print(testLabels.head())"
      ],
      "execution_count": 112,
      "outputs": [
        {
          "output_type": "stream",
          "text": [
            "9     3.5\n",
            "25    4.5\n",
            "28    2.0\n",
            "31    4.0\n",
            "32    3.0\n",
            "Name: SOP, dtype: float64\n"
          ],
          "name": "stdout"
        }
      ]
    },
    {
      "cell_type": "code",
      "metadata": {
        "id": "ZCyvPQ-UZr3H"
      },
      "source": [
        "model=tf.keras.Sequential([\n",
        "                           tf.keras.layers.Dense(1)\n",
        "])"
      ],
      "execution_count": 113,
      "outputs": []
    },
    {
      "cell_type": "code",
      "metadata": {
        "id": "OTKjTZJ2aCZe"
      },
      "source": [
        "model.compile(\n",
        "    loss='mean_absolute_error',\n",
        "    optimizer=tf.keras.optimizers.Adam(0.001),\n",
        "    metrics=['mae','mse']\n",
        ")"
      ],
      "execution_count": 114,
      "outputs": []
    },
    {
      "cell_type": "code",
      "metadata": {
        "colab": {
          "base_uri": "https://localhost:8080/"
        },
        "id": "JIyxqkOVaxH6",
        "outputId": "c23674b7-03c7-4ab7-a3ca-c64b525148b8"
      },
      "source": [
        "numEpochs=500\n",
        "history=model.fit(x=trainFeatures,y=trainLabels,validation_data=(testFeatures,testLabels),epochs=numEpochs)"
      ],
      "execution_count": 115,
      "outputs": [
        {
          "output_type": "stream",
          "text": [
            "Epoch 1/500\n",
            "10/10 [==============================] - 0s 19ms/step - loss: 6.0628 - mae: 6.0628 - mse: 37.2096 - val_loss: 5.9458 - val_mae: 5.9458 - val_mse: 36.0207\n",
            "Epoch 2/500\n",
            "10/10 [==============================] - 0s 6ms/step - loss: 5.9668 - mae: 5.9668 - mse: 36.0554 - val_loss: 5.8493 - val_mae: 5.8493 - val_mse: 34.8827\n",
            "Epoch 3/500\n",
            "10/10 [==============================] - 0s 4ms/step - loss: 5.8712 - mae: 5.8712 - mse: 34.9268 - val_loss: 5.7527 - val_mae: 5.7527 - val_mse: 33.7618\n",
            "Epoch 4/500\n",
            "10/10 [==============================] - 0s 32ms/step - loss: 5.7753 - mae: 5.7753 - mse: 33.8057 - val_loss: 5.6562 - val_mae: 5.6562 - val_mse: 32.6606\n",
            "Epoch 5/500\n",
            "10/10 [==============================] - 0s 6ms/step - loss: 5.6793 - mae: 5.6793 - mse: 32.7086 - val_loss: 5.5598 - val_mae: 5.5598 - val_mse: 31.5793\n",
            "Epoch 6/500\n",
            "10/10 [==============================] - 0s 5ms/step - loss: 5.5835 - mae: 5.5835 - mse: 31.6369 - val_loss: 5.4633 - val_mae: 5.4633 - val_mse: 30.5163\n",
            "Epoch 7/500\n",
            "10/10 [==============================] - 0s 4ms/step - loss: 5.4877 - mae: 5.4877 - mse: 30.5728 - val_loss: 5.3668 - val_mae: 5.3668 - val_mse: 29.4710\n",
            "Epoch 8/500\n",
            "10/10 [==============================] - 0s 4ms/step - loss: 5.3918 - mae: 5.3918 - mse: 29.5291 - val_loss: 5.2704 - val_mae: 5.2704 - val_mse: 28.4458\n",
            "Epoch 9/500\n",
            "10/10 [==============================] - 0s 6ms/step - loss: 5.2959 - mae: 5.2959 - mse: 28.5102 - val_loss: 5.1739 - val_mae: 5.1739 - val_mse: 27.4386\n",
            "Epoch 10/500\n",
            "10/10 [==============================] - 0s 6ms/step - loss: 5.2003 - mae: 5.2003 - mse: 27.5016 - val_loss: 5.0773 - val_mae: 5.0773 - val_mse: 26.4483\n",
            "Epoch 11/500\n",
            "10/10 [==============================] - 0s 4ms/step - loss: 5.1043 - mae: 5.1043 - mse: 26.5180 - val_loss: 4.9808 - val_mae: 4.9808 - val_mse: 25.4782\n",
            "Epoch 12/500\n",
            "10/10 [==============================] - 0s 4ms/step - loss: 5.0083 - mae: 5.0083 - mse: 25.5494 - val_loss: 4.8844 - val_mae: 4.8844 - val_mse: 24.5283\n",
            "Epoch 13/500\n",
            "10/10 [==============================] - 0s 6ms/step - loss: 4.9126 - mae: 4.9126 - mse: 24.6014 - val_loss: 4.7879 - val_mae: 4.7879 - val_mse: 23.5956\n",
            "Epoch 14/500\n",
            "10/10 [==============================] - 0s 4ms/step - loss: 4.8166 - mae: 4.8166 - mse: 23.6676 - val_loss: 4.6916 - val_mae: 4.6916 - val_mse: 22.6828\n",
            "Epoch 15/500\n",
            "10/10 [==============================] - 0s 4ms/step - loss: 4.7209 - mae: 4.7209 - mse: 22.7593 - val_loss: 4.5950 - val_mae: 4.5950 - val_mse: 21.7873\n",
            "Epoch 16/500\n",
            "10/10 [==============================] - 0s 4ms/step - loss: 4.6251 - mae: 4.6251 - mse: 21.8660 - val_loss: 4.4985 - val_mae: 4.4985 - val_mse: 20.9104\n",
            "Epoch 17/500\n",
            "10/10 [==============================] - 0s 5ms/step - loss: 4.5291 - mae: 4.5291 - mse: 20.9887 - val_loss: 4.4021 - val_mae: 4.4021 - val_mse: 20.0533\n",
            "Epoch 18/500\n",
            "10/10 [==============================] - 0s 4ms/step - loss: 4.4333 - mae: 4.4333 - mse: 20.1336 - val_loss: 4.3056 - val_mae: 4.3056 - val_mse: 19.2145\n",
            "Epoch 19/500\n",
            "10/10 [==============================] - 0s 4ms/step - loss: 4.3375 - mae: 4.3375 - mse: 19.2932 - val_loss: 4.2091 - val_mae: 4.2091 - val_mse: 18.3935\n",
            "Epoch 20/500\n",
            "10/10 [==============================] - 0s 4ms/step - loss: 4.2415 - mae: 4.2415 - mse: 18.4753 - val_loss: 4.1127 - val_mae: 4.1127 - val_mse: 17.5928\n",
            "Epoch 21/500\n",
            "10/10 [==============================] - 0s 3ms/step - loss: 4.1457 - mae: 4.1457 - mse: 17.6762 - val_loss: 4.0162 - val_mae: 4.0162 - val_mse: 16.8099\n",
            "Epoch 22/500\n",
            "10/10 [==============================] - 0s 5ms/step - loss: 4.0500 - mae: 4.0500 - mse: 16.8885 - val_loss: 3.9196 - val_mae: 3.9196 - val_mse: 16.0448\n",
            "Epoch 23/500\n",
            "10/10 [==============================] - 0s 4ms/step - loss: 3.9540 - mae: 3.9540 - mse: 16.1240 - val_loss: 3.8232 - val_mae: 3.8232 - val_mse: 15.2997\n",
            "Epoch 24/500\n",
            "10/10 [==============================] - 0s 4ms/step - loss: 3.8582 - mae: 3.8582 - mse: 15.3795 - val_loss: 3.7266 - val_mae: 3.7266 - val_mse: 14.5723\n",
            "Epoch 25/500\n",
            "10/10 [==============================] - 0s 4ms/step - loss: 3.7622 - mae: 3.7622 - mse: 14.6495 - val_loss: 3.6302 - val_mae: 3.6302 - val_mse: 13.8650\n",
            "Epoch 26/500\n",
            "10/10 [==============================] - 0s 4ms/step - loss: 3.6663 - mae: 3.6663 - mse: 13.9407 - val_loss: 3.5338 - val_mae: 3.5338 - val_mse: 13.1760\n",
            "Epoch 27/500\n",
            "10/10 [==============================] - 0s 4ms/step - loss: 3.5706 - mae: 3.5706 - mse: 13.2494 - val_loss: 3.4373 - val_mae: 3.4373 - val_mse: 12.5051\n",
            "Epoch 28/500\n",
            "10/10 [==============================] - 0s 4ms/step - loss: 3.4747 - mae: 3.4747 - mse: 12.5784 - val_loss: 3.3408 - val_mae: 3.3408 - val_mse: 11.8528\n",
            "Epoch 29/500\n",
            "10/10 [==============================] - 0s 3ms/step - loss: 3.3789 - mae: 3.3789 - mse: 11.9215 - val_loss: 3.2443 - val_mae: 3.2443 - val_mse: 11.2193\n",
            "Epoch 30/500\n",
            "10/10 [==============================] - 0s 3ms/step - loss: 3.2831 - mae: 3.2831 - mse: 11.2880 - val_loss: 3.1477 - val_mae: 3.1477 - val_mse: 10.6042\n",
            "Epoch 31/500\n",
            "10/10 [==============================] - 0s 4ms/step - loss: 3.1871 - mae: 3.1871 - mse: 10.6686 - val_loss: 3.0513 - val_mae: 3.0513 - val_mse: 10.0087\n",
            "Epoch 32/500\n",
            "10/10 [==============================] - 0s 5ms/step - loss: 3.0912 - mae: 3.0912 - mse: 10.0732 - val_loss: 2.9549 - val_mae: 2.9549 - val_mse: 9.4321\n",
            "Epoch 33/500\n",
            "10/10 [==============================] - 0s 5ms/step - loss: 2.9954 - mae: 2.9954 - mse: 9.4932 - val_loss: 2.8584 - val_mae: 2.8584 - val_mse: 8.8735\n",
            "Epoch 34/500\n",
            "10/10 [==============================] - 0s 4ms/step - loss: 2.8995 - mae: 2.8995 - mse: 8.9294 - val_loss: 2.7619 - val_mae: 2.7619 - val_mse: 8.3338\n",
            "Epoch 35/500\n",
            "10/10 [==============================] - 0s 4ms/step - loss: 2.8037 - mae: 2.8037 - mse: 8.3895 - val_loss: 2.6654 - val_mae: 2.6654 - val_mse: 7.8126\n",
            "Epoch 36/500\n",
            "10/10 [==============================] - 0s 3ms/step - loss: 2.7078 - mae: 2.7078 - mse: 7.8631 - val_loss: 2.5689 - val_mae: 2.5689 - val_mse: 7.3101\n",
            "Epoch 37/500\n",
            "10/10 [==============================] - 0s 4ms/step - loss: 2.6119 - mae: 2.6119 - mse: 7.3572 - val_loss: 2.4724 - val_mae: 2.4724 - val_mse: 6.8264\n",
            "Epoch 38/500\n",
            "10/10 [==============================] - 0s 4ms/step - loss: 2.5161 - mae: 2.5161 - mse: 6.8667 - val_loss: 2.3759 - val_mae: 2.3759 - val_mse: 6.3612\n",
            "Epoch 39/500\n",
            "10/10 [==============================] - 0s 4ms/step - loss: 2.4202 - mae: 2.4202 - mse: 6.3972 - val_loss: 2.2794 - val_mae: 2.2794 - val_mse: 5.9150\n",
            "Epoch 40/500\n",
            "10/10 [==============================] - 0s 4ms/step - loss: 2.3242 - mae: 2.3242 - mse: 5.9487 - val_loss: 2.1832 - val_mae: 2.1832 - val_mse: 5.4880\n",
            "Epoch 41/500\n",
            "10/10 [==============================] - 0s 4ms/step - loss: 2.2285 - mae: 2.2285 - mse: 5.5133 - val_loss: 2.0889 - val_mae: 2.0889 - val_mse: 5.0790\n",
            "Epoch 42/500\n",
            "10/10 [==============================] - 0s 4ms/step - loss: 2.1326 - mae: 2.1326 - mse: 5.1012 - val_loss: 1.9946 - val_mae: 1.9946 - val_mse: 4.6889\n",
            "Epoch 43/500\n",
            "10/10 [==============================] - 0s 4ms/step - loss: 2.0369 - mae: 2.0369 - mse: 4.7015 - val_loss: 1.9001 - val_mae: 1.9001 - val_mse: 4.3170\n",
            "Epoch 44/500\n",
            "10/10 [==============================] - 0s 4ms/step - loss: 1.9409 - mae: 1.9409 - mse: 4.3290 - val_loss: 1.8058 - val_mae: 1.8058 - val_mse: 3.9644\n",
            "Epoch 45/500\n",
            "10/10 [==============================] - 0s 4ms/step - loss: 1.8450 - mae: 1.8450 - mse: 3.9656 - val_loss: 1.7115 - val_mae: 1.7115 - val_mse: 3.6304\n",
            "Epoch 46/500\n",
            "10/10 [==============================] - 0s 4ms/step - loss: 1.7493 - mae: 1.7493 - mse: 3.6265 - val_loss: 1.6172 - val_mae: 1.6172 - val_mse: 3.3149\n",
            "Epoch 47/500\n",
            "10/10 [==============================] - 0s 5ms/step - loss: 1.6538 - mae: 1.6538 - mse: 3.3047 - val_loss: 1.5231 - val_mae: 1.5231 - val_mse: 3.0191\n",
            "Epoch 48/500\n",
            "10/10 [==============================] - 0s 5ms/step - loss: 1.5593 - mae: 1.5593 - mse: 2.9994 - val_loss: 1.4314 - val_mae: 1.4314 - val_mse: 2.7427\n",
            "Epoch 49/500\n",
            "10/10 [==============================] - 0s 5ms/step - loss: 1.4656 - mae: 1.4656 - mse: 2.7168 - val_loss: 1.3408 - val_mae: 1.3408 - val_mse: 2.4869\n",
            "Epoch 50/500\n",
            "10/10 [==============================] - 0s 11ms/step - loss: 1.3730 - mae: 1.3730 - mse: 2.4560 - val_loss: 1.2536 - val_mae: 1.2536 - val_mse: 2.2497\n",
            "Epoch 51/500\n",
            "10/10 [==============================] - 0s 4ms/step - loss: 1.2825 - mae: 1.2825 - mse: 2.2108 - val_loss: 1.1714 - val_mae: 1.1714 - val_mse: 2.0333\n",
            "Epoch 52/500\n",
            "10/10 [==============================] - 0s 4ms/step - loss: 1.1981 - mae: 1.1981 - mse: 1.9904 - val_loss: 1.0978 - val_mae: 1.0978 - val_mse: 1.8387\n",
            "Epoch 53/500\n",
            "10/10 [==============================] - 0s 4ms/step - loss: 1.1203 - mae: 1.1203 - mse: 1.7925 - val_loss: 1.0341 - val_mae: 1.0341 - val_mse: 1.6701\n",
            "Epoch 54/500\n",
            "10/10 [==============================] - 0s 4ms/step - loss: 1.0516 - mae: 1.0516 - mse: 1.6189 - val_loss: 0.9763 - val_mae: 0.9763 - val_mse: 1.5241\n",
            "Epoch 55/500\n",
            "10/10 [==============================] - 0s 4ms/step - loss: 0.9899 - mae: 0.9899 - mse: 1.4700 - val_loss: 0.9274 - val_mae: 0.9274 - val_mse: 1.4019\n",
            "Epoch 56/500\n",
            "10/10 [==============================] - 0s 7ms/step - loss: 0.9377 - mae: 0.9377 - mse: 1.3424 - val_loss: 0.8865 - val_mae: 0.8865 - val_mse: 1.2962\n",
            "Epoch 57/500\n",
            "10/10 [==============================] - 0s 4ms/step - loss: 0.8918 - mae: 0.8918 - mse: 1.2316 - val_loss: 0.8520 - val_mae: 0.8520 - val_mse: 1.2082\n",
            "Epoch 58/500\n",
            "10/10 [==============================] - 0s 4ms/step - loss: 0.8559 - mae: 0.8559 - mse: 1.1396 - val_loss: 0.8221 - val_mae: 0.8221 - val_mse: 1.1342\n",
            "Epoch 59/500\n",
            "10/10 [==============================] - 0s 4ms/step - loss: 0.8230 - mae: 0.8230 - mse: 1.0597 - val_loss: 0.7972 - val_mae: 0.7972 - val_mse: 1.0741\n",
            "Epoch 60/500\n",
            "10/10 [==============================] - 0s 4ms/step - loss: 0.7966 - mae: 0.7966 - mse: 0.9931 - val_loss: 0.7767 - val_mae: 0.7767 - val_mse: 1.0216\n",
            "Epoch 61/500\n",
            "10/10 [==============================] - 0s 4ms/step - loss: 0.7716 - mae: 0.7716 - mse: 0.9336 - val_loss: 0.7623 - val_mae: 0.7623 - val_mse: 0.9789\n",
            "Epoch 62/500\n",
            "10/10 [==============================] - 0s 5ms/step - loss: 0.7523 - mae: 0.7523 - mse: 0.8879 - val_loss: 0.7522 - val_mae: 0.7522 - val_mse: 0.9426\n",
            "Epoch 63/500\n",
            "10/10 [==============================] - 0s 4ms/step - loss: 0.7334 - mae: 0.7334 - mse: 0.8446 - val_loss: 0.7457 - val_mae: 0.7457 - val_mse: 0.9148\n",
            "Epoch 64/500\n",
            "10/10 [==============================] - 0s 4ms/step - loss: 0.7185 - mae: 0.7185 - mse: 0.8113 - val_loss: 0.7411 - val_mae: 0.7411 - val_mse: 0.8897\n",
            "Epoch 65/500\n",
            "10/10 [==============================] - 0s 4ms/step - loss: 0.7047 - mae: 0.7047 - mse: 0.7803 - val_loss: 0.7374 - val_mae: 0.7374 - val_mse: 0.8698\n",
            "Epoch 66/500\n",
            "10/10 [==============================] - 0s 4ms/step - loss: 0.6938 - mae: 0.6938 - mse: 0.7550 - val_loss: 0.7354 - val_mae: 0.7354 - val_mse: 0.8546\n",
            "Epoch 67/500\n",
            "10/10 [==============================] - 0s 4ms/step - loss: 0.6861 - mae: 0.6861 - mse: 0.7375 - val_loss: 0.7347 - val_mae: 0.7347 - val_mse: 0.8436\n",
            "Epoch 68/500\n",
            "10/10 [==============================] - 0s 4ms/step - loss: 0.6798 - mae: 0.6798 - mse: 0.7221 - val_loss: 0.7344 - val_mae: 0.7344 - val_mse: 0.8356\n",
            "Epoch 69/500\n",
            "10/10 [==============================] - 0s 4ms/step - loss: 0.6751 - mae: 0.6751 - mse: 0.7094 - val_loss: 0.7350 - val_mae: 0.7350 - val_mse: 0.8292\n",
            "Epoch 70/500\n",
            "10/10 [==============================] - 0s 4ms/step - loss: 0.6723 - mae: 0.6723 - mse: 0.7005 - val_loss: 0.7365 - val_mae: 0.7365 - val_mse: 0.8234\n",
            "Epoch 71/500\n",
            "10/10 [==============================] - 0s 4ms/step - loss: 0.6681 - mae: 0.6681 - mse: 0.6911 - val_loss: 0.7377 - val_mae: 0.7377 - val_mse: 0.8202\n",
            "Epoch 72/500\n",
            "10/10 [==============================] - 0s 4ms/step - loss: 0.6658 - mae: 0.6658 - mse: 0.6844 - val_loss: 0.7389 - val_mae: 0.7389 - val_mse: 0.8174\n",
            "Epoch 73/500\n",
            "10/10 [==============================] - 0s 4ms/step - loss: 0.6638 - mae: 0.6638 - mse: 0.6789 - val_loss: 0.7400 - val_mae: 0.7400 - val_mse: 0.8155\n",
            "Epoch 74/500\n",
            "10/10 [==============================] - 0s 4ms/step - loss: 0.6625 - mae: 0.6625 - mse: 0.6748 - val_loss: 0.7410 - val_mae: 0.7410 - val_mse: 0.8141\n",
            "Epoch 75/500\n",
            "10/10 [==============================] - 0s 6ms/step - loss: 0.6617 - mae: 0.6617 - mse: 0.6713 - val_loss: 0.7420 - val_mae: 0.7420 - val_mse: 0.8130\n",
            "Epoch 76/500\n",
            "10/10 [==============================] - 0s 4ms/step - loss: 0.6603 - mae: 0.6603 - mse: 0.6679 - val_loss: 0.7426 - val_mae: 0.7426 - val_mse: 0.8125\n",
            "Epoch 77/500\n",
            "10/10 [==============================] - 0s 5ms/step - loss: 0.6596 - mae: 0.6596 - mse: 0.6657 - val_loss: 0.7433 - val_mae: 0.7433 - val_mse: 0.8121\n",
            "Epoch 78/500\n",
            "10/10 [==============================] - 0s 5ms/step - loss: 0.6595 - mae: 0.6595 - mse: 0.6638 - val_loss: 0.7444 - val_mae: 0.7444 - val_mse: 0.8118\n",
            "Epoch 79/500\n",
            "10/10 [==============================] - 0s 4ms/step - loss: 0.6589 - mae: 0.6589 - mse: 0.6621 - val_loss: 0.7449 - val_mae: 0.7449 - val_mse: 0.8118\n",
            "Epoch 80/500\n",
            "10/10 [==============================] - 0s 4ms/step - loss: 0.6588 - mae: 0.6588 - mse: 0.6612 - val_loss: 0.7455 - val_mae: 0.7455 - val_mse: 0.8117\n",
            "Epoch 81/500\n",
            "10/10 [==============================] - 0s 4ms/step - loss: 0.6586 - mae: 0.6586 - mse: 0.6602 - val_loss: 0.7460 - val_mae: 0.7460 - val_mse: 0.8118\n",
            "Epoch 82/500\n",
            "10/10 [==============================] - 0s 4ms/step - loss: 0.6585 - mae: 0.6585 - mse: 0.6594 - val_loss: 0.7463 - val_mae: 0.7463 - val_mse: 0.8118\n",
            "Epoch 83/500\n",
            "10/10 [==============================] - 0s 4ms/step - loss: 0.6584 - mae: 0.6584 - mse: 0.6590 - val_loss: 0.7468 - val_mae: 0.7468 - val_mse: 0.8118\n",
            "Epoch 84/500\n",
            "10/10 [==============================] - 0s 5ms/step - loss: 0.6583 - mae: 0.6583 - mse: 0.6583 - val_loss: 0.7474 - val_mae: 0.7474 - val_mse: 0.8119\n",
            "Epoch 85/500\n",
            "10/10 [==============================] - 0s 4ms/step - loss: 0.6584 - mae: 0.6584 - mse: 0.6578 - val_loss: 0.7482 - val_mae: 0.7482 - val_mse: 0.8121\n",
            "Epoch 86/500\n",
            "10/10 [==============================] - 0s 4ms/step - loss: 0.6581 - mae: 0.6581 - mse: 0.6569 - val_loss: 0.7484 - val_mae: 0.7484 - val_mse: 0.8121\n",
            "Epoch 87/500\n",
            "10/10 [==============================] - 0s 4ms/step - loss: 0.6581 - mae: 0.6581 - mse: 0.6566 - val_loss: 0.7489 - val_mae: 0.7489 - val_mse: 0.8123\n",
            "Epoch 88/500\n",
            "10/10 [==============================] - 0s 4ms/step - loss: 0.6580 - mae: 0.6580 - mse: 0.6562 - val_loss: 0.7492 - val_mae: 0.7492 - val_mse: 0.8124\n",
            "Epoch 89/500\n",
            "10/10 [==============================] - 0s 4ms/step - loss: 0.6579 - mae: 0.6579 - mse: 0.6557 - val_loss: 0.7495 - val_mae: 0.7495 - val_mse: 0.8125\n",
            "Epoch 90/500\n",
            "10/10 [==============================] - 0s 4ms/step - loss: 0.6580 - mae: 0.6580 - mse: 0.6554 - val_loss: 0.7502 - val_mae: 0.7502 - val_mse: 0.8128\n",
            "Epoch 91/500\n",
            "10/10 [==============================] - 0s 4ms/step - loss: 0.6578 - mae: 0.6578 - mse: 0.6548 - val_loss: 0.7505 - val_mae: 0.7505 - val_mse: 0.8129\n",
            "Epoch 92/500\n",
            "10/10 [==============================] - 0s 4ms/step - loss: 0.6577 - mae: 0.6577 - mse: 0.6547 - val_loss: 0.7504 - val_mae: 0.7504 - val_mse: 0.8128\n",
            "Epoch 93/500\n",
            "10/10 [==============================] - 0s 4ms/step - loss: 0.6577 - mae: 0.6577 - mse: 0.6545 - val_loss: 0.7508 - val_mae: 0.7508 - val_mse: 0.8130\n",
            "Epoch 94/500\n",
            "10/10 [==============================] - 0s 4ms/step - loss: 0.6577 - mae: 0.6577 - mse: 0.6541 - val_loss: 0.7511 - val_mae: 0.7511 - val_mse: 0.8132\n",
            "Epoch 95/500\n",
            "10/10 [==============================] - 0s 5ms/step - loss: 0.6577 - mae: 0.6577 - mse: 0.6542 - val_loss: 0.7508 - val_mae: 0.7508 - val_mse: 0.8130\n",
            "Epoch 96/500\n",
            "10/10 [==============================] - 0s 4ms/step - loss: 0.6577 - mae: 0.6577 - mse: 0.6541 - val_loss: 0.7512 - val_mae: 0.7512 - val_mse: 0.8132\n",
            "Epoch 97/500\n",
            "10/10 [==============================] - 0s 5ms/step - loss: 0.6577 - mae: 0.6577 - mse: 0.6538 - val_loss: 0.7513 - val_mae: 0.7513 - val_mse: 0.8132\n",
            "Epoch 98/500\n",
            "10/10 [==============================] - 0s 5ms/step - loss: 0.6577 - mae: 0.6577 - mse: 0.6538 - val_loss: 0.7509 - val_mae: 0.7509 - val_mse: 0.8130\n",
            "Epoch 99/500\n",
            "10/10 [==============================] - 0s 4ms/step - loss: 0.6576 - mae: 0.6576 - mse: 0.6540 - val_loss: 0.7509 - val_mae: 0.7509 - val_mse: 0.8130\n",
            "Epoch 100/500\n",
            "10/10 [==============================] - 0s 4ms/step - loss: 0.6576 - mae: 0.6576 - mse: 0.6540 - val_loss: 0.7510 - val_mae: 0.7510 - val_mse: 0.8130\n",
            "Epoch 101/500\n",
            "10/10 [==============================] - 0s 4ms/step - loss: 0.6576 - mae: 0.6576 - mse: 0.6539 - val_loss: 0.7511 - val_mae: 0.7511 - val_mse: 0.8131\n",
            "Epoch 102/500\n",
            "10/10 [==============================] - 0s 4ms/step - loss: 0.6576 - mae: 0.6576 - mse: 0.6538 - val_loss: 0.7511 - val_mae: 0.7511 - val_mse: 0.8130\n",
            "Epoch 103/500\n",
            "10/10 [==============================] - 0s 4ms/step - loss: 0.6576 - mae: 0.6576 - mse: 0.6539 - val_loss: 0.7509 - val_mae: 0.7509 - val_mse: 0.8129\n",
            "Epoch 104/500\n",
            "10/10 [==============================] - 0s 4ms/step - loss: 0.6576 - mae: 0.6576 - mse: 0.6538 - val_loss: 0.7510 - val_mae: 0.7510 - val_mse: 0.8130\n",
            "Epoch 105/500\n",
            "10/10 [==============================] - 0s 4ms/step - loss: 0.6577 - mae: 0.6577 - mse: 0.6541 - val_loss: 0.7506 - val_mae: 0.7506 - val_mse: 0.8127\n",
            "Epoch 106/500\n",
            "10/10 [==============================] - 0s 5ms/step - loss: 0.6576 - mae: 0.6576 - mse: 0.6538 - val_loss: 0.7511 - val_mae: 0.7511 - val_mse: 0.8130\n",
            "Epoch 107/500\n",
            "10/10 [==============================] - 0s 5ms/step - loss: 0.6575 - mae: 0.6575 - mse: 0.6536 - val_loss: 0.7511 - val_mae: 0.7511 - val_mse: 0.8129\n",
            "Epoch 108/500\n",
            "10/10 [==============================] - 0s 5ms/step - loss: 0.6575 - mae: 0.6575 - mse: 0.6536 - val_loss: 0.7512 - val_mae: 0.7512 - val_mse: 0.8130\n",
            "Epoch 109/500\n",
            "10/10 [==============================] - 0s 4ms/step - loss: 0.6576 - mae: 0.6576 - mse: 0.6537 - val_loss: 0.7510 - val_mae: 0.7510 - val_mse: 0.8129\n",
            "Epoch 110/500\n",
            "10/10 [==============================] - 0s 4ms/step - loss: 0.6577 - mae: 0.6577 - mse: 0.6535 - val_loss: 0.7514 - val_mae: 0.7514 - val_mse: 0.8131\n",
            "Epoch 111/500\n",
            "10/10 [==============================] - 0s 4ms/step - loss: 0.6575 - mae: 0.6575 - mse: 0.6534 - val_loss: 0.7511 - val_mae: 0.7511 - val_mse: 0.8129\n",
            "Epoch 112/500\n",
            "10/10 [==============================] - 0s 4ms/step - loss: 0.6575 - mae: 0.6575 - mse: 0.6538 - val_loss: 0.7507 - val_mae: 0.7507 - val_mse: 0.8126\n",
            "Epoch 113/500\n",
            "10/10 [==============================] - 0s 4ms/step - loss: 0.6575 - mae: 0.6575 - mse: 0.6537 - val_loss: 0.7510 - val_mae: 0.7510 - val_mse: 0.8128\n",
            "Epoch 114/500\n",
            "10/10 [==============================] - 0s 5ms/step - loss: 0.6575 - mae: 0.6575 - mse: 0.6536 - val_loss: 0.7509 - val_mae: 0.7509 - val_mse: 0.8127\n",
            "Epoch 115/500\n",
            "10/10 [==============================] - 0s 4ms/step - loss: 0.6574 - mae: 0.6574 - mse: 0.6536 - val_loss: 0.7508 - val_mae: 0.7508 - val_mse: 0.8126\n",
            "Epoch 116/500\n",
            "10/10 [==============================] - 0s 5ms/step - loss: 0.6574 - mae: 0.6574 - mse: 0.6536 - val_loss: 0.7509 - val_mae: 0.7509 - val_mse: 0.8126\n",
            "Epoch 117/500\n",
            "10/10 [==============================] - 0s 4ms/step - loss: 0.6575 - mae: 0.6575 - mse: 0.6533 - val_loss: 0.7513 - val_mae: 0.7513 - val_mse: 0.8129\n",
            "Epoch 118/500\n",
            "10/10 [==============================] - 0s 4ms/step - loss: 0.6576 - mae: 0.6576 - mse: 0.6530 - val_loss: 0.7516 - val_mae: 0.7516 - val_mse: 0.8130\n",
            "Epoch 119/500\n",
            "10/10 [==============================] - 0s 5ms/step - loss: 0.6574 - mae: 0.6574 - mse: 0.6532 - val_loss: 0.7508 - val_mae: 0.7508 - val_mse: 0.8125\n",
            "Epoch 120/500\n",
            "10/10 [==============================] - 0s 4ms/step - loss: 0.6575 - mae: 0.6575 - mse: 0.6538 - val_loss: 0.7504 - val_mae: 0.7504 - val_mse: 0.8123\n",
            "Epoch 121/500\n",
            "10/10 [==============================] - 0s 4ms/step - loss: 0.6575 - mae: 0.6575 - mse: 0.6536 - val_loss: 0.7509 - val_mae: 0.7509 - val_mse: 0.8126\n",
            "Epoch 122/500\n",
            "10/10 [==============================] - 0s 4ms/step - loss: 0.6573 - mae: 0.6573 - mse: 0.6532 - val_loss: 0.7509 - val_mae: 0.7509 - val_mse: 0.8126\n",
            "Epoch 123/500\n",
            "10/10 [==============================] - 0s 4ms/step - loss: 0.6579 - mae: 0.6579 - mse: 0.6544 - val_loss: 0.7499 - val_mae: 0.7499 - val_mse: 0.8120\n",
            "Epoch 124/500\n",
            "10/10 [==============================] - 0s 4ms/step - loss: 0.6577 - mae: 0.6577 - mse: 0.6540 - val_loss: 0.7509 - val_mae: 0.7509 - val_mse: 0.8125\n",
            "Epoch 125/500\n",
            "10/10 [==============================] - 0s 4ms/step - loss: 0.6574 - mae: 0.6574 - mse: 0.6535 - val_loss: 0.7505 - val_mae: 0.7505 - val_mse: 0.8123\n",
            "Epoch 126/500\n",
            "10/10 [==============================] - 0s 5ms/step - loss: 0.6573 - mae: 0.6573 - mse: 0.6533 - val_loss: 0.7509 - val_mae: 0.7509 - val_mse: 0.8125\n",
            "Epoch 127/500\n",
            "10/10 [==============================] - 0s 4ms/step - loss: 0.6574 - mae: 0.6574 - mse: 0.6530 - val_loss: 0.7510 - val_mae: 0.7510 - val_mse: 0.8125\n",
            "Epoch 128/500\n",
            "10/10 [==============================] - 0s 6ms/step - loss: 0.6573 - mae: 0.6573 - mse: 0.6530 - val_loss: 0.7507 - val_mae: 0.7507 - val_mse: 0.8123\n",
            "Epoch 129/500\n",
            "10/10 [==============================] - 0s 5ms/step - loss: 0.6574 - mae: 0.6574 - mse: 0.6531 - val_loss: 0.7509 - val_mae: 0.7509 - val_mse: 0.8124\n",
            "Epoch 130/500\n",
            "10/10 [==============================] - 0s 4ms/step - loss: 0.6573 - mae: 0.6573 - mse: 0.6532 - val_loss: 0.7504 - val_mae: 0.7504 - val_mse: 0.8121\n",
            "Epoch 131/500\n",
            "10/10 [==============================] - 0s 4ms/step - loss: 0.6572 - mae: 0.6572 - mse: 0.6533 - val_loss: 0.7505 - val_mae: 0.7505 - val_mse: 0.8121\n",
            "Epoch 132/500\n",
            "10/10 [==============================] - 0s 4ms/step - loss: 0.6572 - mae: 0.6572 - mse: 0.6533 - val_loss: 0.7506 - val_mae: 0.7506 - val_mse: 0.8122\n",
            "Epoch 133/500\n",
            "10/10 [==============================] - 0s 4ms/step - loss: 0.6572 - mae: 0.6572 - mse: 0.6531 - val_loss: 0.7508 - val_mae: 0.7508 - val_mse: 0.8123\n",
            "Epoch 134/500\n",
            "10/10 [==============================] - 0s 4ms/step - loss: 0.6572 - mae: 0.6572 - mse: 0.6529 - val_loss: 0.7507 - val_mae: 0.7507 - val_mse: 0.8122\n",
            "Epoch 135/500\n",
            "10/10 [==============================] - 0s 4ms/step - loss: 0.6572 - mae: 0.6572 - mse: 0.6529 - val_loss: 0.7508 - val_mae: 0.7508 - val_mse: 0.8122\n",
            "Epoch 136/500\n",
            "10/10 [==============================] - 0s 5ms/step - loss: 0.6572 - mae: 0.6572 - mse: 0.6530 - val_loss: 0.7505 - val_mae: 0.7505 - val_mse: 0.8120\n",
            "Epoch 137/500\n",
            "10/10 [==============================] - 0s 4ms/step - loss: 0.6574 - mae: 0.6574 - mse: 0.6532 - val_loss: 0.7512 - val_mae: 0.7512 - val_mse: 0.8125\n",
            "Epoch 138/500\n",
            "10/10 [==============================] - 0s 4ms/step - loss: 0.6574 - mae: 0.6574 - mse: 0.6532 - val_loss: 0.7503 - val_mae: 0.7503 - val_mse: 0.8119\n",
            "Epoch 139/500\n",
            "10/10 [==============================] - 0s 4ms/step - loss: 0.6572 - mae: 0.6572 - mse: 0.6530 - val_loss: 0.7506 - val_mae: 0.7506 - val_mse: 0.8120\n",
            "Epoch 140/500\n",
            "10/10 [==============================] - 0s 5ms/step - loss: 0.6572 - mae: 0.6572 - mse: 0.6529 - val_loss: 0.7508 - val_mae: 0.7508 - val_mse: 0.8121\n",
            "Epoch 141/500\n",
            "10/10 [==============================] - 0s 4ms/step - loss: 0.6573 - mae: 0.6573 - mse: 0.6529 - val_loss: 0.7511 - val_mae: 0.7511 - val_mse: 0.8123\n",
            "Epoch 142/500\n",
            "10/10 [==============================] - 0s 4ms/step - loss: 0.6572 - mae: 0.6572 - mse: 0.6528 - val_loss: 0.7504 - val_mae: 0.7504 - val_mse: 0.8118\n",
            "Epoch 143/500\n",
            "10/10 [==============================] - 0s 5ms/step - loss: 0.6571 - mae: 0.6571 - mse: 0.6527 - val_loss: 0.7507 - val_mae: 0.7507 - val_mse: 0.8120\n",
            "Epoch 144/500\n",
            "10/10 [==============================] - 0s 4ms/step - loss: 0.6571 - mae: 0.6571 - mse: 0.6525 - val_loss: 0.7508 - val_mae: 0.7508 - val_mse: 0.8120\n",
            "Epoch 145/500\n",
            "10/10 [==============================] - 0s 4ms/step - loss: 0.6570 - mae: 0.6570 - mse: 0.6527 - val_loss: 0.7502 - val_mae: 0.7502 - val_mse: 0.8117\n",
            "Epoch 146/500\n",
            "10/10 [==============================] - 0s 4ms/step - loss: 0.6570 - mae: 0.6570 - mse: 0.6528 - val_loss: 0.7504 - val_mae: 0.7504 - val_mse: 0.8118\n",
            "Epoch 147/500\n",
            "10/10 [==============================] - 0s 4ms/step - loss: 0.6570 - mae: 0.6570 - mse: 0.6527 - val_loss: 0.7504 - val_mae: 0.7504 - val_mse: 0.8117\n",
            "Epoch 148/500\n",
            "10/10 [==============================] - 0s 5ms/step - loss: 0.6570 - mae: 0.6570 - mse: 0.6526 - val_loss: 0.7503 - val_mae: 0.7503 - val_mse: 0.8117\n",
            "Epoch 149/500\n",
            "10/10 [==============================] - 0s 4ms/step - loss: 0.6570 - mae: 0.6570 - mse: 0.6527 - val_loss: 0.7503 - val_mae: 0.7503 - val_mse: 0.8116\n",
            "Epoch 150/500\n",
            "10/10 [==============================] - 0s 4ms/step - loss: 0.6570 - mae: 0.6570 - mse: 0.6525 - val_loss: 0.7505 - val_mae: 0.7505 - val_mse: 0.8118\n",
            "Epoch 151/500\n",
            "10/10 [==============================] - 0s 4ms/step - loss: 0.6571 - mae: 0.6571 - mse: 0.6528 - val_loss: 0.7502 - val_mae: 0.7502 - val_mse: 0.8116\n",
            "Epoch 152/500\n",
            "10/10 [==============================] - 0s 4ms/step - loss: 0.6570 - mae: 0.6570 - mse: 0.6527 - val_loss: 0.7502 - val_mae: 0.7502 - val_mse: 0.8115\n",
            "Epoch 153/500\n",
            "10/10 [==============================] - 0s 4ms/step - loss: 0.6570 - mae: 0.6570 - mse: 0.6523 - val_loss: 0.7508 - val_mae: 0.7508 - val_mse: 0.8118\n",
            "Epoch 154/500\n",
            "10/10 [==============================] - 0s 4ms/step - loss: 0.6571 - mae: 0.6571 - mse: 0.6523 - val_loss: 0.7513 - val_mae: 0.7513 - val_mse: 0.8121\n",
            "Epoch 155/500\n",
            "10/10 [==============================] - 0s 4ms/step - loss: 0.6569 - mae: 0.6569 - mse: 0.6518 - val_loss: 0.7503 - val_mae: 0.7503 - val_mse: 0.8115\n",
            "Epoch 156/500\n",
            "10/10 [==============================] - 0s 4ms/step - loss: 0.6569 - mae: 0.6569 - mse: 0.6523 - val_loss: 0.7503 - val_mae: 0.7503 - val_mse: 0.8115\n",
            "Epoch 157/500\n",
            "10/10 [==============================] - 0s 4ms/step - loss: 0.6569 - mae: 0.6569 - mse: 0.6526 - val_loss: 0.7499 - val_mae: 0.7499 - val_mse: 0.8112\n",
            "Epoch 158/500\n",
            "10/10 [==============================] - 0s 4ms/step - loss: 0.6571 - mae: 0.6571 - mse: 0.6526 - val_loss: 0.7506 - val_mae: 0.7506 - val_mse: 0.8116\n",
            "Epoch 159/500\n",
            "10/10 [==============================] - 0s 5ms/step - loss: 0.6568 - mae: 0.6568 - mse: 0.6519 - val_loss: 0.7503 - val_mae: 0.7503 - val_mse: 0.8114\n",
            "Epoch 160/500\n",
            "10/10 [==============================] - 0s 4ms/step - loss: 0.6568 - mae: 0.6568 - mse: 0.6523 - val_loss: 0.7499 - val_mae: 0.7499 - val_mse: 0.8112\n",
            "Epoch 161/500\n",
            "10/10 [==============================] - 0s 6ms/step - loss: 0.6570 - mae: 0.6570 - mse: 0.6523 - val_loss: 0.7505 - val_mae: 0.7505 - val_mse: 0.8115\n",
            "Epoch 162/500\n",
            "10/10 [==============================] - 0s 4ms/step - loss: 0.6567 - mae: 0.6567 - mse: 0.6519 - val_loss: 0.7501 - val_mae: 0.7501 - val_mse: 0.8112\n",
            "Epoch 163/500\n",
            "10/10 [==============================] - 0s 4ms/step - loss: 0.6568 - mae: 0.6568 - mse: 0.6525 - val_loss: 0.7497 - val_mae: 0.7497 - val_mse: 0.8110\n",
            "Epoch 164/500\n",
            "10/10 [==============================] - 0s 4ms/step - loss: 0.6568 - mae: 0.6568 - mse: 0.6524 - val_loss: 0.7498 - val_mae: 0.7498 - val_mse: 0.8110\n",
            "Epoch 165/500\n",
            "10/10 [==============================] - 0s 4ms/step - loss: 0.6568 - mae: 0.6568 - mse: 0.6522 - val_loss: 0.7502 - val_mae: 0.7502 - val_mse: 0.8112\n",
            "Epoch 166/500\n",
            "10/10 [==============================] - 0s 4ms/step - loss: 0.6567 - mae: 0.6567 - mse: 0.6521 - val_loss: 0.7500 - val_mae: 0.7500 - val_mse: 0.8111\n",
            "Epoch 167/500\n",
            "10/10 [==============================] - 0s 5ms/step - loss: 0.6567 - mae: 0.6567 - mse: 0.6523 - val_loss: 0.7497 - val_mae: 0.7497 - val_mse: 0.8109\n",
            "Epoch 168/500\n",
            "10/10 [==============================] - 0s 5ms/step - loss: 0.6568 - mae: 0.6568 - mse: 0.6520 - val_loss: 0.7503 - val_mae: 0.7503 - val_mse: 0.8112\n",
            "Epoch 169/500\n",
            "10/10 [==============================] - 0s 4ms/step - loss: 0.6569 - mae: 0.6569 - mse: 0.6523 - val_loss: 0.7495 - val_mae: 0.7495 - val_mse: 0.8108\n",
            "Epoch 170/500\n",
            "10/10 [==============================] - 0s 4ms/step - loss: 0.6568 - mae: 0.6568 - mse: 0.6522 - val_loss: 0.7505 - val_mae: 0.7505 - val_mse: 0.8113\n",
            "Epoch 171/500\n",
            "10/10 [==============================] - 0s 4ms/step - loss: 0.6566 - mae: 0.6566 - mse: 0.6514 - val_loss: 0.7503 - val_mae: 0.7503 - val_mse: 0.8111\n",
            "Epoch 172/500\n",
            "10/10 [==============================] - 0s 4ms/step - loss: 0.6567 - mae: 0.6567 - mse: 0.6521 - val_loss: 0.7497 - val_mae: 0.7497 - val_mse: 0.8108\n",
            "Epoch 173/500\n",
            "10/10 [==============================] - 0s 5ms/step - loss: 0.6566 - mae: 0.6566 - mse: 0.6520 - val_loss: 0.7498 - val_mae: 0.7498 - val_mse: 0.8108\n",
            "Epoch 174/500\n",
            "10/10 [==============================] - 0s 4ms/step - loss: 0.6566 - mae: 0.6566 - mse: 0.6519 - val_loss: 0.7499 - val_mae: 0.7499 - val_mse: 0.8108\n",
            "Epoch 175/500\n",
            "10/10 [==============================] - 0s 4ms/step - loss: 0.6567 - mae: 0.6567 - mse: 0.6516 - val_loss: 0.7506 - val_mae: 0.7506 - val_mse: 0.8112\n",
            "Epoch 176/500\n",
            "10/10 [==============================] - 0s 4ms/step - loss: 0.6565 - mae: 0.6565 - mse: 0.6512 - val_loss: 0.7503 - val_mae: 0.7503 - val_mse: 0.8110\n",
            "Epoch 177/500\n",
            "10/10 [==============================] - 0s 4ms/step - loss: 0.6565 - mae: 0.6565 - mse: 0.6515 - val_loss: 0.7500 - val_mae: 0.7500 - val_mse: 0.8108\n",
            "Epoch 178/500\n",
            "10/10 [==============================] - 0s 4ms/step - loss: 0.6565 - mae: 0.6565 - mse: 0.6516 - val_loss: 0.7500 - val_mae: 0.7500 - val_mse: 0.8108\n",
            "Epoch 179/500\n",
            "10/10 [==============================] - 0s 6ms/step - loss: 0.6565 - mae: 0.6565 - mse: 0.6515 - val_loss: 0.7503 - val_mae: 0.7503 - val_mse: 0.8109\n",
            "Epoch 180/500\n",
            "10/10 [==============================] - 0s 4ms/step - loss: 0.6566 - mae: 0.6566 - mse: 0.6517 - val_loss: 0.7495 - val_mae: 0.7495 - val_mse: 0.8105\n",
            "Epoch 181/500\n",
            "10/10 [==============================] - 0s 4ms/step - loss: 0.6569 - mae: 0.6569 - mse: 0.6527 - val_loss: 0.7489 - val_mae: 0.7489 - val_mse: 0.8101\n",
            "Epoch 182/500\n",
            "10/10 [==============================] - 0s 5ms/step - loss: 0.6566 - mae: 0.6566 - mse: 0.6516 - val_loss: 0.7501 - val_mae: 0.7501 - val_mse: 0.8107\n",
            "Epoch 183/500\n",
            "10/10 [==============================] - 0s 4ms/step - loss: 0.6564 - mae: 0.6564 - mse: 0.6511 - val_loss: 0.7501 - val_mae: 0.7501 - val_mse: 0.8107\n",
            "Epoch 184/500\n",
            "10/10 [==============================] - 0s 4ms/step - loss: 0.6566 - mae: 0.6566 - mse: 0.6511 - val_loss: 0.7499 - val_mae: 0.7499 - val_mse: 0.8105\n",
            "Epoch 185/500\n",
            "10/10 [==============================] - 0s 4ms/step - loss: 0.6564 - mae: 0.6564 - mse: 0.6515 - val_loss: 0.7494 - val_mae: 0.7494 - val_mse: 0.8102\n",
            "Epoch 186/500\n",
            "10/10 [==============================] - 0s 5ms/step - loss: 0.6564 - mae: 0.6564 - mse: 0.6514 - val_loss: 0.7498 - val_mae: 0.7498 - val_mse: 0.8105\n",
            "Epoch 187/500\n",
            "10/10 [==============================] - 0s 4ms/step - loss: 0.6563 - mae: 0.6563 - mse: 0.6512 - val_loss: 0.7499 - val_mae: 0.7499 - val_mse: 0.8105\n",
            "Epoch 188/500\n",
            "10/10 [==============================] - 0s 4ms/step - loss: 0.6565 - mae: 0.6565 - mse: 0.6516 - val_loss: 0.7494 - val_mae: 0.7494 - val_mse: 0.8102\n",
            "Epoch 189/500\n",
            "10/10 [==============================] - 0s 4ms/step - loss: 0.6564 - mae: 0.6564 - mse: 0.6511 - val_loss: 0.7501 - val_mae: 0.7501 - val_mse: 0.8105\n",
            "Epoch 190/500\n",
            "10/10 [==============================] - 0s 4ms/step - loss: 0.6565 - mae: 0.6565 - mse: 0.6515 - val_loss: 0.7493 - val_mae: 0.7493 - val_mse: 0.8101\n",
            "Epoch 191/500\n",
            "10/10 [==============================] - 0s 4ms/step - loss: 0.6563 - mae: 0.6563 - mse: 0.6512 - val_loss: 0.7499 - val_mae: 0.7499 - val_mse: 0.8104\n",
            "Epoch 192/500\n",
            "10/10 [==============================] - 0s 4ms/step - loss: 0.6562 - mae: 0.6562 - mse: 0.6508 - val_loss: 0.7499 - val_mae: 0.7499 - val_mse: 0.8103\n",
            "Epoch 193/500\n",
            "10/10 [==============================] - 0s 5ms/step - loss: 0.6562 - mae: 0.6562 - mse: 0.6508 - val_loss: 0.7500 - val_mae: 0.7500 - val_mse: 0.8103\n",
            "Epoch 194/500\n",
            "10/10 [==============================] - 0s 4ms/step - loss: 0.6563 - mae: 0.6563 - mse: 0.6511 - val_loss: 0.7498 - val_mae: 0.7498 - val_mse: 0.8102\n",
            "Epoch 195/500\n",
            "10/10 [==============================] - 0s 4ms/step - loss: 0.6561 - mae: 0.6561 - mse: 0.6507 - val_loss: 0.7499 - val_mae: 0.7499 - val_mse: 0.8102\n",
            "Epoch 196/500\n",
            "10/10 [==============================] - 0s 4ms/step - loss: 0.6562 - mae: 0.6562 - mse: 0.6505 - val_loss: 0.7502 - val_mae: 0.7502 - val_mse: 0.8104\n",
            "Epoch 197/500\n",
            "10/10 [==============================] - 0s 4ms/step - loss: 0.6563 - mae: 0.6563 - mse: 0.6509 - val_loss: 0.7494 - val_mae: 0.7494 - val_mse: 0.8099\n",
            "Epoch 198/500\n",
            "10/10 [==============================] - 0s 4ms/step - loss: 0.6561 - mae: 0.6561 - mse: 0.6511 - val_loss: 0.7497 - val_mae: 0.7497 - val_mse: 0.8101\n",
            "Epoch 199/500\n",
            "10/10 [==============================] - 0s 4ms/step - loss: 0.6561 - mae: 0.6561 - mse: 0.6506 - val_loss: 0.7498 - val_mae: 0.7498 - val_mse: 0.8101\n",
            "Epoch 200/500\n",
            "10/10 [==============================] - 0s 5ms/step - loss: 0.6561 - mae: 0.6561 - mse: 0.6504 - val_loss: 0.7500 - val_mae: 0.7500 - val_mse: 0.8102\n",
            "Epoch 201/500\n",
            "10/10 [==============================] - 0s 4ms/step - loss: 0.6560 - mae: 0.6560 - mse: 0.6505 - val_loss: 0.7496 - val_mae: 0.7496 - val_mse: 0.8099\n",
            "Epoch 202/500\n",
            "10/10 [==============================] - 0s 4ms/step - loss: 0.6560 - mae: 0.6560 - mse: 0.6506 - val_loss: 0.7493 - val_mae: 0.7493 - val_mse: 0.8097\n",
            "Epoch 203/500\n",
            "10/10 [==============================] - 0s 6ms/step - loss: 0.6560 - mae: 0.6560 - mse: 0.6506 - val_loss: 0.7497 - val_mae: 0.7497 - val_mse: 0.8099\n",
            "Epoch 204/500\n",
            "10/10 [==============================] - 0s 4ms/step - loss: 0.6560 - mae: 0.6560 - mse: 0.6504 - val_loss: 0.7494 - val_mae: 0.7494 - val_mse: 0.8097\n",
            "Epoch 205/500\n",
            "10/10 [==============================] - 0s 5ms/step - loss: 0.6560 - mae: 0.6560 - mse: 0.6505 - val_loss: 0.7495 - val_mae: 0.7495 - val_mse: 0.8097\n",
            "Epoch 206/500\n",
            "10/10 [==============================] - 0s 4ms/step - loss: 0.6559 - mae: 0.6559 - mse: 0.6504 - val_loss: 0.7494 - val_mae: 0.7494 - val_mse: 0.8096\n",
            "Epoch 207/500\n",
            "10/10 [==============================] - 0s 5ms/step - loss: 0.6560 - mae: 0.6560 - mse: 0.6505 - val_loss: 0.7492 - val_mae: 0.7492 - val_mse: 0.8095\n",
            "Epoch 208/500\n",
            "10/10 [==============================] - 0s 4ms/step - loss: 0.6559 - mae: 0.6559 - mse: 0.6503 - val_loss: 0.7498 - val_mae: 0.7498 - val_mse: 0.8098\n",
            "Epoch 209/500\n",
            "10/10 [==============================] - 0s 4ms/step - loss: 0.6560 - mae: 0.6560 - mse: 0.6501 - val_loss: 0.7500 - val_mae: 0.7500 - val_mse: 0.8099\n",
            "Epoch 210/500\n",
            "10/10 [==============================] - 0s 4ms/step - loss: 0.6559 - mae: 0.6559 - mse: 0.6502 - val_loss: 0.7492 - val_mae: 0.7492 - val_mse: 0.8094\n",
            "Epoch 211/500\n",
            "10/10 [==============================] - 0s 4ms/step - loss: 0.6558 - mae: 0.6558 - mse: 0.6505 - val_loss: 0.7490 - val_mae: 0.7490 - val_mse: 0.8093\n",
            "Epoch 212/500\n",
            "10/10 [==============================] - 0s 4ms/step - loss: 0.6558 - mae: 0.6558 - mse: 0.6506 - val_loss: 0.7489 - val_mae: 0.7489 - val_mse: 0.8092\n",
            "Epoch 213/500\n",
            "10/10 [==============================] - 0s 5ms/step - loss: 0.6558 - mae: 0.6558 - mse: 0.6505 - val_loss: 0.7493 - val_mae: 0.7493 - val_mse: 0.8094\n",
            "Epoch 214/500\n",
            "10/10 [==============================] - 0s 4ms/step - loss: 0.6558 - mae: 0.6558 - mse: 0.6499 - val_loss: 0.7498 - val_mae: 0.7498 - val_mse: 0.8096\n",
            "Epoch 215/500\n",
            "10/10 [==============================] - 0s 5ms/step - loss: 0.6557 - mae: 0.6557 - mse: 0.6498 - val_loss: 0.7494 - val_mae: 0.7494 - val_mse: 0.8094\n",
            "Epoch 216/500\n",
            "10/10 [==============================] - 0s 4ms/step - loss: 0.6558 - mae: 0.6558 - mse: 0.6500 - val_loss: 0.7491 - val_mae: 0.7491 - val_mse: 0.8092\n",
            "Epoch 217/500\n",
            "10/10 [==============================] - 0s 4ms/step - loss: 0.6559 - mae: 0.6559 - mse: 0.6500 - val_loss: 0.7498 - val_mae: 0.7498 - val_mse: 0.8095\n",
            "Epoch 218/500\n",
            "10/10 [==============================] - 0s 4ms/step - loss: 0.6557 - mae: 0.6557 - mse: 0.6498 - val_loss: 0.7492 - val_mae: 0.7492 - val_mse: 0.8092\n",
            "Epoch 219/500\n",
            "10/10 [==============================] - 0s 5ms/step - loss: 0.6557 - mae: 0.6557 - mse: 0.6500 - val_loss: 0.7491 - val_mae: 0.7491 - val_mse: 0.8091\n",
            "Epoch 220/500\n",
            "10/10 [==============================] - 0s 4ms/step - loss: 0.6557 - mae: 0.6557 - mse: 0.6497 - val_loss: 0.7495 - val_mae: 0.7495 - val_mse: 0.8092\n",
            "Epoch 221/500\n",
            "10/10 [==============================] - 0s 4ms/step - loss: 0.6557 - mae: 0.6557 - mse: 0.6498 - val_loss: 0.7492 - val_mae: 0.7492 - val_mse: 0.8091\n",
            "Epoch 222/500\n",
            "10/10 [==============================] - 0s 4ms/step - loss: 0.6557 - mae: 0.6557 - mse: 0.6497 - val_loss: 0.7496 - val_mae: 0.7496 - val_mse: 0.8092\n",
            "Epoch 223/500\n",
            "10/10 [==============================] - 0s 5ms/step - loss: 0.6558 - mae: 0.6558 - mse: 0.6503 - val_loss: 0.7484 - val_mae: 0.7484 - val_mse: 0.8086\n",
            "Epoch 224/500\n",
            "10/10 [==============================] - 0s 6ms/step - loss: 0.6556 - mae: 0.6556 - mse: 0.6502 - val_loss: 0.7486 - val_mae: 0.7486 - val_mse: 0.8087\n",
            "Epoch 225/500\n",
            "10/10 [==============================] - 0s 5ms/step - loss: 0.6555 - mae: 0.6555 - mse: 0.6497 - val_loss: 0.7491 - val_mae: 0.7491 - val_mse: 0.8089\n",
            "Epoch 226/500\n",
            "10/10 [==============================] - 0s 4ms/step - loss: 0.6556 - mae: 0.6556 - mse: 0.6497 - val_loss: 0.7489 - val_mae: 0.7489 - val_mse: 0.8087\n",
            "Epoch 227/500\n",
            "10/10 [==============================] - 0s 4ms/step - loss: 0.6556 - mae: 0.6556 - mse: 0.6494 - val_loss: 0.7496 - val_mae: 0.7496 - val_mse: 0.8091\n",
            "Epoch 228/500\n",
            "10/10 [==============================] - 0s 4ms/step - loss: 0.6555 - mae: 0.6555 - mse: 0.6489 - val_loss: 0.7496 - val_mae: 0.7496 - val_mse: 0.8091\n",
            "Epoch 229/500\n",
            "10/10 [==============================] - 0s 4ms/step - loss: 0.6555 - mae: 0.6555 - mse: 0.6491 - val_loss: 0.7490 - val_mae: 0.7490 - val_mse: 0.8087\n",
            "Epoch 230/500\n",
            "10/10 [==============================] - 0s 4ms/step - loss: 0.6554 - mae: 0.6554 - mse: 0.6494 - val_loss: 0.7488 - val_mae: 0.7488 - val_mse: 0.8085\n",
            "Epoch 231/500\n",
            "10/10 [==============================] - 0s 4ms/step - loss: 0.6554 - mae: 0.6554 - mse: 0.6493 - val_loss: 0.7490 - val_mae: 0.7490 - val_mse: 0.8086\n",
            "Epoch 232/500\n",
            "10/10 [==============================] - 0s 5ms/step - loss: 0.6554 - mae: 0.6554 - mse: 0.6491 - val_loss: 0.7495 - val_mae: 0.7495 - val_mse: 0.8089\n",
            "Epoch 233/500\n",
            "10/10 [==============================] - 0s 4ms/step - loss: 0.6557 - mae: 0.6557 - mse: 0.6496 - val_loss: 0.7484 - val_mae: 0.7484 - val_mse: 0.8082\n",
            "Epoch 234/500\n",
            "10/10 [==============================] - 0s 4ms/step - loss: 0.6554 - mae: 0.6554 - mse: 0.6495 - val_loss: 0.7487 - val_mae: 0.7487 - val_mse: 0.8084\n",
            "Epoch 235/500\n",
            "10/10 [==============================] - 0s 5ms/step - loss: 0.6554 - mae: 0.6554 - mse: 0.6488 - val_loss: 0.7496 - val_mae: 0.7496 - val_mse: 0.8088\n",
            "Epoch 236/500\n",
            "10/10 [==============================] - 0s 4ms/step - loss: 0.6555 - mae: 0.6555 - mse: 0.6485 - val_loss: 0.7498 - val_mae: 0.7498 - val_mse: 0.8089\n",
            "Epoch 237/500\n",
            "10/10 [==============================] - 0s 5ms/step - loss: 0.6552 - mae: 0.6552 - mse: 0.6485 - val_loss: 0.7490 - val_mae: 0.7490 - val_mse: 0.8084\n",
            "Epoch 238/500\n",
            "10/10 [==============================] - 0s 4ms/step - loss: 0.6552 - mae: 0.6552 - mse: 0.6491 - val_loss: 0.7486 - val_mae: 0.7486 - val_mse: 0.8082\n",
            "Epoch 239/500\n",
            "10/10 [==============================] - 0s 4ms/step - loss: 0.6553 - mae: 0.6553 - mse: 0.6489 - val_loss: 0.7489 - val_mae: 0.7489 - val_mse: 0.8083\n",
            "Epoch 240/500\n",
            "10/10 [==============================] - 0s 4ms/step - loss: 0.6552 - mae: 0.6552 - mse: 0.6488 - val_loss: 0.7490 - val_mae: 0.7490 - val_mse: 0.8083\n",
            "Epoch 241/500\n",
            "10/10 [==============================] - 0s 4ms/step - loss: 0.6552 - mae: 0.6552 - mse: 0.6486 - val_loss: 0.7488 - val_mae: 0.7488 - val_mse: 0.8082\n",
            "Epoch 242/500\n",
            "10/10 [==============================] - 0s 4ms/step - loss: 0.6553 - mae: 0.6553 - mse: 0.6492 - val_loss: 0.7481 - val_mae: 0.7481 - val_mse: 0.8078\n",
            "Epoch 243/500\n",
            "10/10 [==============================] - 0s 4ms/step - loss: 0.6553 - mae: 0.6553 - mse: 0.6492 - val_loss: 0.7494 - val_mae: 0.7494 - val_mse: 0.8084\n",
            "Epoch 244/500\n",
            "10/10 [==============================] - 0s 5ms/step - loss: 0.6551 - mae: 0.6551 - mse: 0.6484 - val_loss: 0.7488 - val_mae: 0.7488 - val_mse: 0.8080\n",
            "Epoch 245/500\n",
            "10/10 [==============================] - 0s 5ms/step - loss: 0.6550 - mae: 0.6550 - mse: 0.6485 - val_loss: 0.7489 - val_mae: 0.7489 - val_mse: 0.8081\n",
            "Epoch 246/500\n",
            "10/10 [==============================] - 0s 5ms/step - loss: 0.6551 - mae: 0.6551 - mse: 0.6483 - val_loss: 0.7487 - val_mae: 0.7487 - val_mse: 0.8079\n",
            "Epoch 247/500\n",
            "10/10 [==============================] - 0s 5ms/step - loss: 0.6551 - mae: 0.6551 - mse: 0.6488 - val_loss: 0.7479 - val_mae: 0.7479 - val_mse: 0.8075\n",
            "Epoch 248/500\n",
            "10/10 [==============================] - 0s 4ms/step - loss: 0.6550 - mae: 0.6550 - mse: 0.6489 - val_loss: 0.7486 - val_mae: 0.7486 - val_mse: 0.8078\n",
            "Epoch 249/500\n",
            "10/10 [==============================] - 0s 5ms/step - loss: 0.6550 - mae: 0.6550 - mse: 0.6484 - val_loss: 0.7485 - val_mae: 0.7485 - val_mse: 0.8077\n",
            "Epoch 250/500\n",
            "10/10 [==============================] - 0s 5ms/step - loss: 0.6554 - mae: 0.6554 - mse: 0.6480 - val_loss: 0.7498 - val_mae: 0.7498 - val_mse: 0.8085\n",
            "Epoch 251/500\n",
            "10/10 [==============================] - 0s 5ms/step - loss: 0.6549 - mae: 0.6549 - mse: 0.6477 - val_loss: 0.7487 - val_mae: 0.7487 - val_mse: 0.8077\n",
            "Epoch 252/500\n",
            "10/10 [==============================] - 0s 5ms/step - loss: 0.6552 - mae: 0.6552 - mse: 0.6491 - val_loss: 0.7474 - val_mae: 0.7474 - val_mse: 0.8071\n",
            "Epoch 253/500\n",
            "10/10 [==============================] - 0s 4ms/step - loss: 0.6549 - mae: 0.6549 - mse: 0.6488 - val_loss: 0.7481 - val_mae: 0.7481 - val_mse: 0.8074\n",
            "Epoch 254/500\n",
            "10/10 [==============================] - 0s 5ms/step - loss: 0.6548 - mae: 0.6548 - mse: 0.6481 - val_loss: 0.7486 - val_mae: 0.7486 - val_mse: 0.8076\n",
            "Epoch 255/500\n",
            "10/10 [==============================] - 0s 4ms/step - loss: 0.6549 - mae: 0.6549 - mse: 0.6482 - val_loss: 0.7485 - val_mae: 0.7485 - val_mse: 0.8075\n",
            "Epoch 256/500\n",
            "10/10 [==============================] - 0s 4ms/step - loss: 0.6549 - mae: 0.6549 - mse: 0.6476 - val_loss: 0.7492 - val_mae: 0.7492 - val_mse: 0.8078\n",
            "Epoch 257/500\n",
            "10/10 [==============================] - 0s 5ms/step - loss: 0.6557 - mae: 0.6557 - mse: 0.6495 - val_loss: 0.7479 - val_mae: 0.7479 - val_mse: 0.8071\n",
            "Epoch 258/500\n",
            "10/10 [==============================] - 0s 4ms/step - loss: 0.6548 - mae: 0.6548 - mse: 0.6481 - val_loss: 0.7488 - val_mae: 0.7488 - val_mse: 0.8076\n",
            "Epoch 259/500\n",
            "10/10 [==============================] - 0s 5ms/step - loss: 0.6547 - mae: 0.6547 - mse: 0.6475 - val_loss: 0.7487 - val_mae: 0.7487 - val_mse: 0.8075\n",
            "Epoch 260/500\n",
            "10/10 [==============================] - 0s 4ms/step - loss: 0.6547 - mae: 0.6547 - mse: 0.6478 - val_loss: 0.7481 - val_mae: 0.7481 - val_mse: 0.8071\n",
            "Epoch 261/500\n",
            "10/10 [==============================] - 0s 4ms/step - loss: 0.6546 - mae: 0.6546 - mse: 0.6478 - val_loss: 0.7483 - val_mae: 0.7483 - val_mse: 0.8072\n",
            "Epoch 262/500\n",
            "10/10 [==============================] - 0s 5ms/step - loss: 0.6547 - mae: 0.6547 - mse: 0.6482 - val_loss: 0.7478 - val_mae: 0.7478 - val_mse: 0.8068\n",
            "Epoch 263/500\n",
            "10/10 [==============================] - 0s 4ms/step - loss: 0.6546 - mae: 0.6546 - mse: 0.6476 - val_loss: 0.7486 - val_mae: 0.7486 - val_mse: 0.8072\n",
            "Epoch 264/500\n",
            "10/10 [==============================] - 0s 4ms/step - loss: 0.6546 - mae: 0.6546 - mse: 0.6473 - val_loss: 0.7488 - val_mae: 0.7488 - val_mse: 0.8073\n",
            "Epoch 265/500\n",
            "10/10 [==============================] - 0s 5ms/step - loss: 0.6546 - mae: 0.6546 - mse: 0.6475 - val_loss: 0.7478 - val_mae: 0.7478 - val_mse: 0.8068\n",
            "Epoch 266/500\n",
            "10/10 [==============================] - 0s 4ms/step - loss: 0.6546 - mae: 0.6546 - mse: 0.6479 - val_loss: 0.7477 - val_mae: 0.7477 - val_mse: 0.8066\n",
            "Epoch 267/500\n",
            "10/10 [==============================] - 0s 4ms/step - loss: 0.6545 - mae: 0.6545 - mse: 0.6476 - val_loss: 0.7483 - val_mae: 0.7483 - val_mse: 0.8070\n",
            "Epoch 268/500\n",
            "10/10 [==============================] - 0s 5ms/step - loss: 0.6546 - mae: 0.6546 - mse: 0.6472 - val_loss: 0.7485 - val_mae: 0.7485 - val_mse: 0.8070\n",
            "Epoch 269/500\n",
            "10/10 [==============================] - 0s 4ms/step - loss: 0.6544 - mae: 0.6544 - mse: 0.6472 - val_loss: 0.7479 - val_mae: 0.7479 - val_mse: 0.8067\n",
            "Epoch 270/500\n",
            "10/10 [==============================] - 0s 5ms/step - loss: 0.6544 - mae: 0.6544 - mse: 0.6473 - val_loss: 0.7482 - val_mae: 0.7482 - val_mse: 0.8068\n",
            "Epoch 271/500\n",
            "10/10 [==============================] - 0s 5ms/step - loss: 0.6546 - mae: 0.6546 - mse: 0.6477 - val_loss: 0.7475 - val_mae: 0.7475 - val_mse: 0.8063\n",
            "Epoch 272/500\n",
            "10/10 [==============================] - 0s 5ms/step - loss: 0.6545 - mae: 0.6545 - mse: 0.6476 - val_loss: 0.7480 - val_mae: 0.7480 - val_mse: 0.8066\n",
            "Epoch 273/500\n",
            "10/10 [==============================] - 0s 4ms/step - loss: 0.6544 - mae: 0.6544 - mse: 0.6469 - val_loss: 0.7486 - val_mae: 0.7486 - val_mse: 0.8069\n",
            "Epoch 274/500\n",
            "10/10 [==============================] - 0s 4ms/step - loss: 0.6543 - mae: 0.6543 - mse: 0.6467 - val_loss: 0.7480 - val_mae: 0.7480 - val_mse: 0.8065\n",
            "Epoch 275/500\n",
            "10/10 [==============================] - 0s 4ms/step - loss: 0.6544 - mae: 0.6544 - mse: 0.6472 - val_loss: 0.7477 - val_mae: 0.7477 - val_mse: 0.8063\n",
            "Epoch 276/500\n",
            "10/10 [==============================] - 0s 4ms/step - loss: 0.6544 - mae: 0.6544 - mse: 0.6475 - val_loss: 0.7469 - val_mae: 0.7469 - val_mse: 0.8059\n",
            "Epoch 277/500\n",
            "10/10 [==============================] - 0s 4ms/step - loss: 0.6542 - mae: 0.6542 - mse: 0.6475 - val_loss: 0.7474 - val_mae: 0.7474 - val_mse: 0.8061\n",
            "Epoch 278/500\n",
            "10/10 [==============================] - 0s 4ms/step - loss: 0.6542 - mae: 0.6542 - mse: 0.6469 - val_loss: 0.7480 - val_mae: 0.7480 - val_mse: 0.8064\n",
            "Epoch 279/500\n",
            "10/10 [==============================] - 0s 4ms/step - loss: 0.6541 - mae: 0.6541 - mse: 0.6467 - val_loss: 0.7481 - val_mae: 0.7481 - val_mse: 0.8064\n",
            "Epoch 280/500\n",
            "10/10 [==============================] - 0s 4ms/step - loss: 0.6541 - mae: 0.6541 - mse: 0.6464 - val_loss: 0.7483 - val_mae: 0.7483 - val_mse: 0.8065\n",
            "Epoch 281/500\n",
            "10/10 [==============================] - 0s 5ms/step - loss: 0.6543 - mae: 0.6543 - mse: 0.6466 - val_loss: 0.7479 - val_mae: 0.7479 - val_mse: 0.8062\n",
            "Epoch 282/500\n",
            "10/10 [==============================] - 0s 5ms/step - loss: 0.6540 - mae: 0.6540 - mse: 0.6462 - val_loss: 0.7483 - val_mae: 0.7483 - val_mse: 0.8063\n",
            "Epoch 283/500\n",
            "10/10 [==============================] - 0s 4ms/step - loss: 0.6541 - mae: 0.6541 - mse: 0.6462 - val_loss: 0.7482 - val_mae: 0.7482 - val_mse: 0.8063\n",
            "Epoch 284/500\n",
            "10/10 [==============================] - 0s 4ms/step - loss: 0.6540 - mae: 0.6540 - mse: 0.6462 - val_loss: 0.7480 - val_mae: 0.7480 - val_mse: 0.8061\n",
            "Epoch 285/500\n",
            "10/10 [==============================] - 0s 5ms/step - loss: 0.6541 - mae: 0.6541 - mse: 0.6464 - val_loss: 0.7480 - val_mae: 0.7480 - val_mse: 0.8060\n",
            "Epoch 286/500\n",
            "10/10 [==============================] - 0s 5ms/step - loss: 0.6540 - mae: 0.6540 - mse: 0.6465 - val_loss: 0.7479 - val_mae: 0.7479 - val_mse: 0.8060\n",
            "Epoch 287/500\n",
            "10/10 [==============================] - 0s 4ms/step - loss: 0.6540 - mae: 0.6540 - mse: 0.6460 - val_loss: 0.7481 - val_mae: 0.7481 - val_mse: 0.8060\n",
            "Epoch 288/500\n",
            "10/10 [==============================] - 0s 4ms/step - loss: 0.6540 - mae: 0.6540 - mse: 0.6463 - val_loss: 0.7476 - val_mae: 0.7476 - val_mse: 0.8057\n",
            "Epoch 289/500\n",
            "10/10 [==============================] - 0s 5ms/step - loss: 0.6539 - mae: 0.6539 - mse: 0.6460 - val_loss: 0.7478 - val_mae: 0.7478 - val_mse: 0.8058\n",
            "Epoch 290/500\n",
            "10/10 [==============================] - 0s 4ms/step - loss: 0.6542 - mae: 0.6542 - mse: 0.6467 - val_loss: 0.7470 - val_mae: 0.7470 - val_mse: 0.8053\n",
            "Epoch 291/500\n",
            "10/10 [==============================] - 0s 5ms/step - loss: 0.6541 - mae: 0.6541 - mse: 0.6462 - val_loss: 0.7480 - val_mae: 0.7480 - val_mse: 0.8058\n",
            "Epoch 292/500\n",
            "10/10 [==============================] - 0s 4ms/step - loss: 0.6538 - mae: 0.6538 - mse: 0.6457 - val_loss: 0.7479 - val_mae: 0.7479 - val_mse: 0.8057\n",
            "Epoch 293/500\n",
            "10/10 [==============================] - 0s 6ms/step - loss: 0.6541 - mae: 0.6541 - mse: 0.6465 - val_loss: 0.7472 - val_mae: 0.7472 - val_mse: 0.8053\n",
            "Epoch 294/500\n",
            "10/10 [==============================] - 0s 5ms/step - loss: 0.6539 - mae: 0.6539 - mse: 0.6465 - val_loss: 0.7473 - val_mae: 0.7473 - val_mse: 0.8053\n",
            "Epoch 295/500\n",
            "10/10 [==============================] - 0s 4ms/step - loss: 0.6538 - mae: 0.6538 - mse: 0.6462 - val_loss: 0.7472 - val_mae: 0.7472 - val_mse: 0.8052\n",
            "Epoch 296/500\n",
            "10/10 [==============================] - 0s 4ms/step - loss: 0.6539 - mae: 0.6539 - mse: 0.6454 - val_loss: 0.7485 - val_mae: 0.7485 - val_mse: 0.8059\n",
            "Epoch 297/500\n",
            "10/10 [==============================] - 0s 4ms/step - loss: 0.6538 - mae: 0.6538 - mse: 0.6450 - val_loss: 0.7481 - val_mae: 0.7481 - val_mse: 0.8056\n",
            "Epoch 298/500\n",
            "10/10 [==============================] - 0s 4ms/step - loss: 0.6539 - mae: 0.6539 - mse: 0.6451 - val_loss: 0.7478 - val_mae: 0.7478 - val_mse: 0.8054\n",
            "Epoch 299/500\n",
            "10/10 [==============================] - 0s 4ms/step - loss: 0.6539 - mae: 0.6539 - mse: 0.6464 - val_loss: 0.7465 - val_mae: 0.7465 - val_mse: 0.8047\n",
            "Epoch 300/500\n",
            "10/10 [==============================] - 0s 5ms/step - loss: 0.6539 - mae: 0.6539 - mse: 0.6469 - val_loss: 0.7462 - val_mae: 0.7462 - val_mse: 0.8045\n",
            "Epoch 301/500\n",
            "10/10 [==============================] - 0s 4ms/step - loss: 0.6535 - mae: 0.6535 - mse: 0.6461 - val_loss: 0.7474 - val_mae: 0.7474 - val_mse: 0.8051\n",
            "Epoch 302/500\n",
            "10/10 [==============================] - 0s 4ms/step - loss: 0.6535 - mae: 0.6535 - mse: 0.6452 - val_loss: 0.7481 - val_mae: 0.7481 - val_mse: 0.8054\n",
            "Epoch 303/500\n",
            "10/10 [==============================] - 0s 4ms/step - loss: 0.6535 - mae: 0.6535 - mse: 0.6449 - val_loss: 0.7478 - val_mae: 0.7478 - val_mse: 0.8052\n",
            "Epoch 304/500\n",
            "10/10 [==============================] - 0s 5ms/step - loss: 0.6539 - mae: 0.6539 - mse: 0.6457 - val_loss: 0.7466 - val_mae: 0.7466 - val_mse: 0.8045\n",
            "Epoch 305/500\n",
            "10/10 [==============================] - 0s 4ms/step - loss: 0.6540 - mae: 0.6540 - mse: 0.6456 - val_loss: 0.7484 - val_mae: 0.7484 - val_mse: 0.8055\n",
            "Epoch 306/500\n",
            "10/10 [==============================] - 0s 5ms/step - loss: 0.6535 - mae: 0.6535 - mse: 0.6449 - val_loss: 0.7472 - val_mae: 0.7472 - val_mse: 0.8048\n",
            "Epoch 307/500\n",
            "10/10 [==============================] - 0s 4ms/step - loss: 0.6534 - mae: 0.6534 - mse: 0.6449 - val_loss: 0.7471 - val_mae: 0.7471 - val_mse: 0.8047\n",
            "Epoch 308/500\n",
            "10/10 [==============================] - 0s 5ms/step - loss: 0.6534 - mae: 0.6534 - mse: 0.6449 - val_loss: 0.7476 - val_mae: 0.7476 - val_mse: 0.8049\n",
            "Epoch 309/500\n",
            "10/10 [==============================] - 0s 4ms/step - loss: 0.6532 - mae: 0.6532 - mse: 0.6446 - val_loss: 0.7472 - val_mae: 0.7472 - val_mse: 0.8046\n",
            "Epoch 310/500\n",
            "10/10 [==============================] - 0s 5ms/step - loss: 0.6533 - mae: 0.6533 - mse: 0.6450 - val_loss: 0.7465 - val_mae: 0.7465 - val_mse: 0.8042\n",
            "Epoch 311/500\n",
            "10/10 [==============================] - 0s 5ms/step - loss: 0.6535 - mae: 0.6535 - mse: 0.6453 - val_loss: 0.7467 - val_mae: 0.7467 - val_mse: 0.8043\n",
            "Epoch 312/500\n",
            "10/10 [==============================] - 0s 5ms/step - loss: 0.6533 - mae: 0.6533 - mse: 0.6451 - val_loss: 0.7469 - val_mae: 0.7469 - val_mse: 0.8043\n",
            "Epoch 313/500\n",
            "10/10 [==============================] - 0s 5ms/step - loss: 0.6532 - mae: 0.6532 - mse: 0.6450 - val_loss: 0.7468 - val_mae: 0.7468 - val_mse: 0.8043\n",
            "Epoch 314/500\n",
            "10/10 [==============================] - 0s 4ms/step - loss: 0.6531 - mae: 0.6531 - mse: 0.6448 - val_loss: 0.7470 - val_mae: 0.7470 - val_mse: 0.8043\n",
            "Epoch 315/500\n",
            "10/10 [==============================] - 0s 4ms/step - loss: 0.6534 - mae: 0.6534 - mse: 0.6443 - val_loss: 0.7480 - val_mae: 0.7480 - val_mse: 0.8049\n",
            "Epoch 316/500\n",
            "10/10 [==============================] - 0s 4ms/step - loss: 0.6531 - mae: 0.6531 - mse: 0.6439 - val_loss: 0.7473 - val_mae: 0.7473 - val_mse: 0.8044\n",
            "Epoch 317/500\n",
            "10/10 [==============================] - 0s 4ms/step - loss: 0.6532 - mae: 0.6532 - mse: 0.6450 - val_loss: 0.7460 - val_mae: 0.7460 - val_mse: 0.8037\n",
            "Epoch 318/500\n",
            "10/10 [==============================] - 0s 5ms/step - loss: 0.6531 - mae: 0.6531 - mse: 0.6449 - val_loss: 0.7468 - val_mae: 0.7468 - val_mse: 0.8040\n",
            "Epoch 319/500\n",
            "10/10 [==============================] - 0s 5ms/step - loss: 0.6530 - mae: 0.6530 - mse: 0.6441 - val_loss: 0.7473 - val_mae: 0.7473 - val_mse: 0.8042\n",
            "Epoch 320/500\n",
            "10/10 [==============================] - 0s 4ms/step - loss: 0.6530 - mae: 0.6530 - mse: 0.6442 - val_loss: 0.7465 - val_mae: 0.7465 - val_mse: 0.8038\n",
            "Epoch 321/500\n",
            "10/10 [==============================] - 0s 5ms/step - loss: 0.6530 - mae: 0.6530 - mse: 0.6442 - val_loss: 0.7470 - val_mae: 0.7470 - val_mse: 0.8040\n",
            "Epoch 322/500\n",
            "10/10 [==============================] - 0s 4ms/step - loss: 0.6529 - mae: 0.6529 - mse: 0.6439 - val_loss: 0.7473 - val_mae: 0.7473 - val_mse: 0.8041\n",
            "Epoch 323/500\n",
            "10/10 [==============================] - 0s 4ms/step - loss: 0.6528 - mae: 0.6528 - mse: 0.6438 - val_loss: 0.7470 - val_mae: 0.7470 - val_mse: 0.8039\n",
            "Epoch 324/500\n",
            "10/10 [==============================] - 0s 4ms/step - loss: 0.6529 - mae: 0.6529 - mse: 0.6440 - val_loss: 0.7470 - val_mae: 0.7470 - val_mse: 0.8038\n",
            "Epoch 325/500\n",
            "10/10 [==============================] - 0s 4ms/step - loss: 0.6530 - mae: 0.6530 - mse: 0.6447 - val_loss: 0.7462 - val_mae: 0.7462 - val_mse: 0.8034\n",
            "Epoch 326/500\n",
            "10/10 [==============================] - 0s 6ms/step - loss: 0.6528 - mae: 0.6528 - mse: 0.6442 - val_loss: 0.7463 - val_mae: 0.7463 - val_mse: 0.8034\n",
            "Epoch 327/500\n",
            "10/10 [==============================] - 0s 5ms/step - loss: 0.6528 - mae: 0.6528 - mse: 0.6438 - val_loss: 0.7474 - val_mae: 0.7474 - val_mse: 0.8040\n",
            "Epoch 328/500\n",
            "10/10 [==============================] - 0s 4ms/step - loss: 0.6528 - mae: 0.6528 - mse: 0.6435 - val_loss: 0.7466 - val_mae: 0.7466 - val_mse: 0.8035\n",
            "Epoch 329/500\n",
            "10/10 [==============================] - 0s 5ms/step - loss: 0.6527 - mae: 0.6527 - mse: 0.6435 - val_loss: 0.7469 - val_mae: 0.7469 - val_mse: 0.8036\n",
            "Epoch 330/500\n",
            "10/10 [==============================] - 0s 4ms/step - loss: 0.6527 - mae: 0.6527 - mse: 0.6432 - val_loss: 0.7471 - val_mae: 0.7471 - val_mse: 0.8036\n",
            "Epoch 331/500\n",
            "10/10 [==============================] - 0s 4ms/step - loss: 0.6527 - mae: 0.6527 - mse: 0.6437 - val_loss: 0.7462 - val_mae: 0.7462 - val_mse: 0.8031\n",
            "Epoch 332/500\n",
            "10/10 [==============================] - 0s 4ms/step - loss: 0.6526 - mae: 0.6526 - mse: 0.6437 - val_loss: 0.7464 - val_mae: 0.7464 - val_mse: 0.8031\n",
            "Epoch 333/500\n",
            "10/10 [==============================] - 0s 4ms/step - loss: 0.6526 - mae: 0.6526 - mse: 0.6435 - val_loss: 0.7462 - val_mae: 0.7462 - val_mse: 0.8030\n",
            "Epoch 334/500\n",
            "10/10 [==============================] - 0s 5ms/step - loss: 0.6530 - mae: 0.6530 - mse: 0.6431 - val_loss: 0.7476 - val_mae: 0.7476 - val_mse: 0.8038\n",
            "Epoch 335/500\n",
            "10/10 [==============================] - 0s 4ms/step - loss: 0.6531 - mae: 0.6531 - mse: 0.6443 - val_loss: 0.7457 - val_mae: 0.7457 - val_mse: 0.8027\n",
            "Epoch 336/500\n",
            "10/10 [==============================] - 0s 4ms/step - loss: 0.6524 - mae: 0.6524 - mse: 0.6436 - val_loss: 0.7463 - val_mae: 0.7463 - val_mse: 0.8029\n",
            "Epoch 337/500\n",
            "10/10 [==============================] - 0s 4ms/step - loss: 0.6530 - mae: 0.6530 - mse: 0.6430 - val_loss: 0.7478 - val_mae: 0.7478 - val_mse: 0.8038\n",
            "Epoch 338/500\n",
            "10/10 [==============================] - 0s 4ms/step - loss: 0.6523 - mae: 0.6523 - mse: 0.6423 - val_loss: 0.7463 - val_mae: 0.7463 - val_mse: 0.8029\n",
            "Epoch 339/500\n",
            "10/10 [==============================] - 0s 4ms/step - loss: 0.6524 - mae: 0.6524 - mse: 0.6435 - val_loss: 0.7454 - val_mae: 0.7454 - val_mse: 0.8024\n",
            "Epoch 340/500\n",
            "10/10 [==============================] - 0s 4ms/step - loss: 0.6524 - mae: 0.6524 - mse: 0.6433 - val_loss: 0.7461 - val_mae: 0.7461 - val_mse: 0.8026\n",
            "Epoch 341/500\n",
            "10/10 [==============================] - 0s 4ms/step - loss: 0.6523 - mae: 0.6523 - mse: 0.6428 - val_loss: 0.7468 - val_mae: 0.7468 - val_mse: 0.8030\n",
            "Epoch 342/500\n",
            "10/10 [==============================] - 0s 5ms/step - loss: 0.6524 - mae: 0.6524 - mse: 0.6434 - val_loss: 0.7452 - val_mae: 0.7452 - val_mse: 0.8021\n",
            "Epoch 343/500\n",
            "10/10 [==============================] - 0s 5ms/step - loss: 0.6526 - mae: 0.6526 - mse: 0.6433 - val_loss: 0.7465 - val_mae: 0.7465 - val_mse: 0.8027\n",
            "Epoch 344/500\n",
            "10/10 [==============================] - 0s 5ms/step - loss: 0.6522 - mae: 0.6522 - mse: 0.6425 - val_loss: 0.7460 - val_mae: 0.7460 - val_mse: 0.8024\n",
            "Epoch 345/500\n",
            "10/10 [==============================] - 0s 4ms/step - loss: 0.6521 - mae: 0.6521 - mse: 0.6429 - val_loss: 0.7456 - val_mae: 0.7456 - val_mse: 0.8021\n",
            "Epoch 346/500\n",
            "10/10 [==============================] - 0s 5ms/step - loss: 0.6525 - mae: 0.6525 - mse: 0.6438 - val_loss: 0.7448 - val_mae: 0.7448 - val_mse: 0.8017\n",
            "Epoch 347/500\n",
            "10/10 [==============================] - 0s 4ms/step - loss: 0.6522 - mae: 0.6522 - mse: 0.6429 - val_loss: 0.7461 - val_mae: 0.7461 - val_mse: 0.8023\n",
            "Epoch 348/500\n",
            "10/10 [==============================] - 0s 5ms/step - loss: 0.6521 - mae: 0.6521 - mse: 0.6421 - val_loss: 0.7465 - val_mae: 0.7465 - val_mse: 0.8025\n",
            "Epoch 349/500\n",
            "10/10 [==============================] - 0s 4ms/step - loss: 0.6521 - mae: 0.6521 - mse: 0.6424 - val_loss: 0.7458 - val_mae: 0.7458 - val_mse: 0.8021\n",
            "Epoch 350/500\n",
            "10/10 [==============================] - 0s 4ms/step - loss: 0.6521 - mae: 0.6521 - mse: 0.6422 - val_loss: 0.7467 - val_mae: 0.7467 - val_mse: 0.8025\n",
            "Epoch 351/500\n",
            "10/10 [==============================] - 0s 5ms/step - loss: 0.6520 - mae: 0.6520 - mse: 0.6417 - val_loss: 0.7462 - val_mae: 0.7462 - val_mse: 0.8022\n",
            "Epoch 352/500\n",
            "10/10 [==============================] - 0s 6ms/step - loss: 0.6519 - mae: 0.6519 - mse: 0.6419 - val_loss: 0.7459 - val_mae: 0.7459 - val_mse: 0.8020\n",
            "Epoch 353/500\n",
            "10/10 [==============================] - 0s 4ms/step - loss: 0.6519 - mae: 0.6519 - mse: 0.6420 - val_loss: 0.7459 - val_mae: 0.7459 - val_mse: 0.8019\n",
            "Epoch 354/500\n",
            "10/10 [==============================] - 0s 5ms/step - loss: 0.6518 - mae: 0.6518 - mse: 0.6422 - val_loss: 0.7454 - val_mae: 0.7454 - val_mse: 0.8016\n",
            "Epoch 355/500\n",
            "10/10 [==============================] - 0s 4ms/step - loss: 0.6518 - mae: 0.6518 - mse: 0.6420 - val_loss: 0.7458 - val_mae: 0.7458 - val_mse: 0.8018\n",
            "Epoch 356/500\n",
            "10/10 [==============================] - 0s 4ms/step - loss: 0.6517 - mae: 0.6517 - mse: 0.6415 - val_loss: 0.7461 - val_mae: 0.7461 - val_mse: 0.8019\n",
            "Epoch 357/500\n",
            "10/10 [==============================] - 0s 5ms/step - loss: 0.6518 - mae: 0.6518 - mse: 0.6414 - val_loss: 0.7462 - val_mae: 0.7462 - val_mse: 0.8019\n",
            "Epoch 358/500\n",
            "10/10 [==============================] - 0s 4ms/step - loss: 0.6517 - mae: 0.6517 - mse: 0.6416 - val_loss: 0.7456 - val_mae: 0.7456 - val_mse: 0.8015\n",
            "Epoch 359/500\n",
            "10/10 [==============================] - 0s 4ms/step - loss: 0.6518 - mae: 0.6518 - mse: 0.6419 - val_loss: 0.7456 - val_mae: 0.7456 - val_mse: 0.8015\n",
            "Epoch 360/500\n",
            "10/10 [==============================] - 0s 4ms/step - loss: 0.6516 - mae: 0.6516 - mse: 0.6418 - val_loss: 0.7453 - val_mae: 0.7453 - val_mse: 0.8013\n",
            "Epoch 361/500\n",
            "10/10 [==============================] - 0s 4ms/step - loss: 0.6516 - mae: 0.6516 - mse: 0.6415 - val_loss: 0.7458 - val_mae: 0.7458 - val_mse: 0.8015\n",
            "Epoch 362/500\n",
            "10/10 [==============================] - 0s 4ms/step - loss: 0.6517 - mae: 0.6517 - mse: 0.6411 - val_loss: 0.7461 - val_mae: 0.7461 - val_mse: 0.8016\n",
            "Epoch 363/500\n",
            "10/10 [==============================] - 0s 5ms/step - loss: 0.6515 - mae: 0.6515 - mse: 0.6410 - val_loss: 0.7456 - val_mae: 0.7456 - val_mse: 0.8013\n",
            "Epoch 364/500\n",
            "10/10 [==============================] - 0s 5ms/step - loss: 0.6516 - mae: 0.6516 - mse: 0.6420 - val_loss: 0.7446 - val_mae: 0.7446 - val_mse: 0.8007\n",
            "Epoch 365/500\n",
            "10/10 [==============================] - 0s 5ms/step - loss: 0.6515 - mae: 0.6515 - mse: 0.6418 - val_loss: 0.7450 - val_mae: 0.7450 - val_mse: 0.8009\n",
            "Epoch 366/500\n",
            "10/10 [==============================] - 0s 4ms/step - loss: 0.6514 - mae: 0.6514 - mse: 0.6412 - val_loss: 0.7459 - val_mae: 0.7459 - val_mse: 0.8013\n",
            "Epoch 367/500\n",
            "10/10 [==============================] - 0s 5ms/step - loss: 0.6515 - mae: 0.6515 - mse: 0.6407 - val_loss: 0.7461 - val_mae: 0.7461 - val_mse: 0.8014\n",
            "Epoch 368/500\n",
            "10/10 [==============================] - 0s 4ms/step - loss: 0.6513 - mae: 0.6513 - mse: 0.6407 - val_loss: 0.7454 - val_mae: 0.7454 - val_mse: 0.8009\n",
            "Epoch 369/500\n",
            "10/10 [==============================] - 0s 5ms/step - loss: 0.6514 - mae: 0.6514 - mse: 0.6404 - val_loss: 0.7462 - val_mae: 0.7462 - val_mse: 0.8013\n",
            "Epoch 370/500\n",
            "10/10 [==============================] - 0s 4ms/step - loss: 0.6518 - mae: 0.6518 - mse: 0.6417 - val_loss: 0.7449 - val_mae: 0.7449 - val_mse: 0.8006\n",
            "Epoch 371/500\n",
            "10/10 [==============================] - 0s 5ms/step - loss: 0.6513 - mae: 0.6513 - mse: 0.6407 - val_loss: 0.7460 - val_mae: 0.7460 - val_mse: 0.8011\n",
            "Epoch 372/500\n",
            "10/10 [==============================] - 0s 5ms/step - loss: 0.6512 - mae: 0.6512 - mse: 0.6404 - val_loss: 0.7450 - val_mae: 0.7450 - val_mse: 0.8005\n",
            "Epoch 373/500\n",
            "10/10 [==============================] - 0s 8ms/step - loss: 0.6512 - mae: 0.6512 - mse: 0.6408 - val_loss: 0.7453 - val_mae: 0.7453 - val_mse: 0.8006\n",
            "Epoch 374/500\n",
            "10/10 [==============================] - 0s 6ms/step - loss: 0.6512 - mae: 0.6512 - mse: 0.6407 - val_loss: 0.7448 - val_mae: 0.7448 - val_mse: 0.8003\n",
            "Epoch 375/500\n",
            "10/10 [==============================] - 0s 6ms/step - loss: 0.6512 - mae: 0.6512 - mse: 0.6408 - val_loss: 0.7455 - val_mae: 0.7455 - val_mse: 0.8006\n",
            "Epoch 376/500\n",
            "10/10 [==============================] - 0s 6ms/step - loss: 0.6511 - mae: 0.6511 - mse: 0.6408 - val_loss: 0.7447 - val_mae: 0.7447 - val_mse: 0.8001\n",
            "Epoch 377/500\n",
            "10/10 [==============================] - 0s 4ms/step - loss: 0.6510 - mae: 0.6510 - mse: 0.6405 - val_loss: 0.7455 - val_mae: 0.7455 - val_mse: 0.8005\n",
            "Epoch 378/500\n",
            "10/10 [==============================] - 0s 4ms/step - loss: 0.6510 - mae: 0.6510 - mse: 0.6400 - val_loss: 0.7452 - val_mae: 0.7452 - val_mse: 0.8003\n",
            "Epoch 379/500\n",
            "10/10 [==============================] - 0s 4ms/step - loss: 0.6509 - mae: 0.6509 - mse: 0.6399 - val_loss: 0.7455 - val_mae: 0.7455 - val_mse: 0.8004\n",
            "Epoch 380/500\n",
            "10/10 [==============================] - 0s 4ms/step - loss: 0.6509 - mae: 0.6509 - mse: 0.6398 - val_loss: 0.7450 - val_mae: 0.7450 - val_mse: 0.8001\n",
            "Epoch 381/500\n",
            "10/10 [==============================] - 0s 4ms/step - loss: 0.6511 - mae: 0.6511 - mse: 0.6409 - val_loss: 0.7440 - val_mae: 0.7440 - val_mse: 0.7995\n",
            "Epoch 382/500\n",
            "10/10 [==============================] - 0s 4ms/step - loss: 0.6509 - mae: 0.6509 - mse: 0.6405 - val_loss: 0.7447 - val_mae: 0.7447 - val_mse: 0.7998\n",
            "Epoch 383/500\n",
            "10/10 [==============================] - 0s 5ms/step - loss: 0.6507 - mae: 0.6507 - mse: 0.6397 - val_loss: 0.7459 - val_mae: 0.7459 - val_mse: 0.8005\n",
            "Epoch 384/500\n",
            "10/10 [==============================] - 0s 4ms/step - loss: 0.6508 - mae: 0.6508 - mse: 0.6389 - val_loss: 0.7459 - val_mae: 0.7459 - val_mse: 0.8004\n",
            "Epoch 385/500\n",
            "10/10 [==============================] - 0s 7ms/step - loss: 0.6508 - mae: 0.6508 - mse: 0.6390 - val_loss: 0.7455 - val_mae: 0.7455 - val_mse: 0.8001\n",
            "Epoch 386/500\n",
            "10/10 [==============================] - 0s 5ms/step - loss: 0.6509 - mae: 0.6509 - mse: 0.6400 - val_loss: 0.7443 - val_mae: 0.7443 - val_mse: 0.7994\n",
            "Epoch 387/500\n",
            "10/10 [==============================] - 0s 4ms/step - loss: 0.6509 - mae: 0.6509 - mse: 0.6393 - val_loss: 0.7460 - val_mae: 0.7460 - val_mse: 0.8004\n",
            "Epoch 388/500\n",
            "10/10 [==============================] - 0s 5ms/step - loss: 0.6507 - mae: 0.6507 - mse: 0.6384 - val_loss: 0.7457 - val_mae: 0.7457 - val_mse: 0.8001\n",
            "Epoch 389/500\n",
            "10/10 [==============================] - 0s 4ms/step - loss: 0.6506 - mae: 0.6506 - mse: 0.6392 - val_loss: 0.7446 - val_mae: 0.7446 - val_mse: 0.7994\n",
            "Epoch 390/500\n",
            "10/10 [==============================] - 0s 5ms/step - loss: 0.6508 - mae: 0.6508 - mse: 0.6394 - val_loss: 0.7455 - val_mae: 0.7455 - val_mse: 0.7998\n",
            "Epoch 391/500\n",
            "10/10 [==============================] - 0s 5ms/step - loss: 0.6509 - mae: 0.6509 - mse: 0.6400 - val_loss: 0.7439 - val_mae: 0.7439 - val_mse: 0.7990\n",
            "Epoch 392/500\n",
            "10/10 [==============================] - 0s 4ms/step - loss: 0.6508 - mae: 0.6508 - mse: 0.6394 - val_loss: 0.7457 - val_mae: 0.7457 - val_mse: 0.7999\n",
            "Epoch 393/500\n",
            "10/10 [==============================] - 0s 5ms/step - loss: 0.6507 - mae: 0.6507 - mse: 0.6394 - val_loss: 0.7440 - val_mae: 0.7440 - val_mse: 0.7989\n",
            "Epoch 394/500\n",
            "10/10 [==============================] - 0s 4ms/step - loss: 0.6504 - mae: 0.6504 - mse: 0.6394 - val_loss: 0.7446 - val_mae: 0.7446 - val_mse: 0.7992\n",
            "Epoch 395/500\n",
            "10/10 [==============================] - 0s 6ms/step - loss: 0.6504 - mae: 0.6504 - mse: 0.6388 - val_loss: 0.7447 - val_mae: 0.7447 - val_mse: 0.7992\n",
            "Epoch 396/500\n",
            "10/10 [==============================] - 0s 4ms/step - loss: 0.6504 - mae: 0.6504 - mse: 0.6388 - val_loss: 0.7451 - val_mae: 0.7451 - val_mse: 0.7993\n",
            "Epoch 397/500\n",
            "10/10 [==============================] - 0s 6ms/step - loss: 0.6506 - mae: 0.6506 - mse: 0.6381 - val_loss: 0.7456 - val_mae: 0.7456 - val_mse: 0.7996\n",
            "Epoch 398/500\n",
            "10/10 [==============================] - 0s 4ms/step - loss: 0.6503 - mae: 0.6503 - mse: 0.6382 - val_loss: 0.7446 - val_mae: 0.7446 - val_mse: 0.7990\n",
            "Epoch 399/500\n",
            "10/10 [==============================] - 0s 5ms/step - loss: 0.6504 - mae: 0.6504 - mse: 0.6386 - val_loss: 0.7449 - val_mae: 0.7449 - val_mse: 0.7991\n",
            "Epoch 400/500\n",
            "10/10 [==============================] - 0s 4ms/step - loss: 0.6502 - mae: 0.6502 - mse: 0.6386 - val_loss: 0.7440 - val_mae: 0.7440 - val_mse: 0.7985\n",
            "Epoch 401/500\n",
            "10/10 [==============================] - 0s 4ms/step - loss: 0.6502 - mae: 0.6502 - mse: 0.6388 - val_loss: 0.7441 - val_mae: 0.7441 - val_mse: 0.7985\n",
            "Epoch 402/500\n",
            "10/10 [==============================] - 0s 4ms/step - loss: 0.6502 - mae: 0.6502 - mse: 0.6389 - val_loss: 0.7437 - val_mae: 0.7437 - val_mse: 0.7983\n",
            "Epoch 403/500\n",
            "10/10 [==============================] - 0s 5ms/step - loss: 0.6501 - mae: 0.6501 - mse: 0.6382 - val_loss: 0.7448 - val_mae: 0.7448 - val_mse: 0.7988\n",
            "Epoch 404/500\n",
            "10/10 [==============================] - 0s 4ms/step - loss: 0.6501 - mae: 0.6501 - mse: 0.6377 - val_loss: 0.7452 - val_mae: 0.7452 - val_mse: 0.7990\n",
            "Epoch 405/500\n",
            "10/10 [==============================] - 0s 5ms/step - loss: 0.6500 - mae: 0.6500 - mse: 0.6379 - val_loss: 0.7440 - val_mae: 0.7440 - val_mse: 0.7983\n",
            "Epoch 406/500\n",
            "10/10 [==============================] - 0s 5ms/step - loss: 0.6505 - mae: 0.6505 - mse: 0.6383 - val_loss: 0.7451 - val_mae: 0.7451 - val_mse: 0.7988\n",
            "Epoch 407/500\n",
            "10/10 [==============================] - 0s 4ms/step - loss: 0.6501 - mae: 0.6501 - mse: 0.6382 - val_loss: 0.7435 - val_mae: 0.7435 - val_mse: 0.7979\n",
            "Epoch 408/500\n",
            "10/10 [==============================] - 0s 5ms/step - loss: 0.6504 - mae: 0.6504 - mse: 0.6385 - val_loss: 0.7454 - val_mae: 0.7454 - val_mse: 0.7989\n",
            "Epoch 409/500\n",
            "10/10 [==============================] - 0s 5ms/step - loss: 0.6498 - mae: 0.6498 - mse: 0.6376 - val_loss: 0.7440 - val_mae: 0.7440 - val_mse: 0.7980\n",
            "Epoch 410/500\n",
            "10/10 [==============================] - 0s 5ms/step - loss: 0.6503 - mae: 0.6503 - mse: 0.6392 - val_loss: 0.7427 - val_mae: 0.7427 - val_mse: 0.7974\n",
            "Epoch 411/500\n",
            "10/10 [==============================] - 0s 5ms/step - loss: 0.6498 - mae: 0.6498 - mse: 0.6385 - val_loss: 0.7436 - val_mae: 0.7436 - val_mse: 0.7977\n",
            "Epoch 412/500\n",
            "10/10 [==============================] - 0s 5ms/step - loss: 0.6499 - mae: 0.6499 - mse: 0.6377 - val_loss: 0.7445 - val_mae: 0.7445 - val_mse: 0.7982\n",
            "Epoch 413/500\n",
            "10/10 [==============================] - 0s 4ms/step - loss: 0.6497 - mae: 0.6497 - mse: 0.6371 - val_loss: 0.7443 - val_mae: 0.7443 - val_mse: 0.7980\n",
            "Epoch 414/500\n",
            "10/10 [==============================] - 0s 4ms/step - loss: 0.6497 - mae: 0.6497 - mse: 0.6375 - val_loss: 0.7440 - val_mae: 0.7440 - val_mse: 0.7978\n",
            "Epoch 415/500\n",
            "10/10 [==============================] - 0s 5ms/step - loss: 0.6496 - mae: 0.6496 - mse: 0.6373 - val_loss: 0.7441 - val_mae: 0.7441 - val_mse: 0.7978\n",
            "Epoch 416/500\n",
            "10/10 [==============================] - 0s 4ms/step - loss: 0.6501 - mae: 0.6501 - mse: 0.6367 - val_loss: 0.7453 - val_mae: 0.7453 - val_mse: 0.7985\n",
            "Epoch 417/500\n",
            "10/10 [==============================] - 0s 5ms/step - loss: 0.6494 - mae: 0.6494 - mse: 0.6362 - val_loss: 0.7440 - val_mae: 0.7440 - val_mse: 0.7976\n",
            "Epoch 418/500\n",
            "10/10 [==============================] - 0s 4ms/step - loss: 0.6501 - mae: 0.6501 - mse: 0.6382 - val_loss: 0.7419 - val_mae: 0.7419 - val_mse: 0.7966\n",
            "Epoch 419/500\n",
            "10/10 [==============================] - 0s 6ms/step - loss: 0.6497 - mae: 0.6497 - mse: 0.6388 - val_loss: 0.7424 - val_mae: 0.7424 - val_mse: 0.7967\n",
            "Epoch 420/500\n",
            "10/10 [==============================] - 0s 4ms/step - loss: 0.6495 - mae: 0.6495 - mse: 0.6380 - val_loss: 0.7428 - val_mae: 0.7428 - val_mse: 0.7969\n",
            "Epoch 421/500\n",
            "10/10 [==============================] - 0s 4ms/step - loss: 0.6498 - mae: 0.6498 - mse: 0.6375 - val_loss: 0.7454 - val_mae: 0.7454 - val_mse: 0.7983\n",
            "Epoch 422/500\n",
            "10/10 [==============================] - 0s 4ms/step - loss: 0.6496 - mae: 0.6496 - mse: 0.6363 - val_loss: 0.7436 - val_mae: 0.7436 - val_mse: 0.7971\n",
            "Epoch 423/500\n",
            "10/10 [==============================] - 0s 5ms/step - loss: 0.6497 - mae: 0.6497 - mse: 0.6369 - val_loss: 0.7447 - val_mae: 0.7447 - val_mse: 0.7977\n",
            "Epoch 424/500\n",
            "10/10 [==============================] - 0s 4ms/step - loss: 0.6492 - mae: 0.6492 - mse: 0.6359 - val_loss: 0.7431 - val_mae: 0.7431 - val_mse: 0.7968\n",
            "Epoch 425/500\n",
            "10/10 [==============================] - 0s 6ms/step - loss: 0.6493 - mae: 0.6493 - mse: 0.6373 - val_loss: 0.7428 - val_mae: 0.7428 - val_mse: 0.7966\n",
            "Epoch 426/500\n",
            "10/10 [==============================] - 0s 4ms/step - loss: 0.6495 - mae: 0.6495 - mse: 0.6379 - val_loss: 0.7424 - val_mae: 0.7424 - val_mse: 0.7964\n",
            "Epoch 427/500\n",
            "10/10 [==============================] - 0s 4ms/step - loss: 0.6492 - mae: 0.6492 - mse: 0.6366 - val_loss: 0.7440 - val_mae: 0.7440 - val_mse: 0.7971\n",
            "Epoch 428/500\n",
            "10/10 [==============================] - 0s 5ms/step - loss: 0.6493 - mae: 0.6493 - mse: 0.6366 - val_loss: 0.7433 - val_mae: 0.7433 - val_mse: 0.7966\n",
            "Epoch 429/500\n",
            "10/10 [==============================] - 0s 5ms/step - loss: 0.6491 - mae: 0.6491 - mse: 0.6357 - val_loss: 0.7445 - val_mae: 0.7445 - val_mse: 0.7973\n",
            "Epoch 430/500\n",
            "10/10 [==============================] - 0s 5ms/step - loss: 0.6491 - mae: 0.6491 - mse: 0.6354 - val_loss: 0.7445 - val_mae: 0.7445 - val_mse: 0.7972\n",
            "Epoch 431/500\n",
            "10/10 [==============================] - 0s 4ms/step - loss: 0.6495 - mae: 0.6495 - mse: 0.6366 - val_loss: 0.7421 - val_mae: 0.7421 - val_mse: 0.7959\n",
            "Epoch 432/500\n",
            "10/10 [==============================] - 0s 4ms/step - loss: 0.6491 - mae: 0.6491 - mse: 0.6366 - val_loss: 0.7433 - val_mae: 0.7433 - val_mse: 0.7965\n",
            "Epoch 433/500\n",
            "10/10 [==============================] - 0s 4ms/step - loss: 0.6488 - mae: 0.6488 - mse: 0.6359 - val_loss: 0.7431 - val_mae: 0.7431 - val_mse: 0.7963\n",
            "Epoch 434/500\n",
            "10/10 [==============================] - 0s 5ms/step - loss: 0.6489 - mae: 0.6489 - mse: 0.6357 - val_loss: 0.7438 - val_mae: 0.7438 - val_mse: 0.7966\n",
            "Epoch 435/500\n",
            "10/10 [==============================] - 0s 5ms/step - loss: 0.6489 - mae: 0.6489 - mse: 0.6361 - val_loss: 0.7432 - val_mae: 0.7432 - val_mse: 0.7962\n",
            "Epoch 436/500\n",
            "10/10 [==============================] - 0s 5ms/step - loss: 0.6497 - mae: 0.6497 - mse: 0.6361 - val_loss: 0.7454 - val_mae: 0.7454 - val_mse: 0.7976\n",
            "Epoch 437/500\n",
            "10/10 [==============================] - 0s 5ms/step - loss: 0.6491 - mae: 0.6491 - mse: 0.6343 - val_loss: 0.7445 - val_mae: 0.7445 - val_mse: 0.7969\n",
            "Epoch 438/500\n",
            "10/10 [==============================] - 0s 4ms/step - loss: 0.6485 - mae: 0.6485 - mse: 0.6346 - val_loss: 0.7424 - val_mae: 0.7424 - val_mse: 0.7956\n",
            "Epoch 439/500\n",
            "10/10 [==============================] - 0s 6ms/step - loss: 0.6487 - mae: 0.6487 - mse: 0.6364 - val_loss: 0.7416 - val_mae: 0.7416 - val_mse: 0.7953\n",
            "Epoch 440/500\n",
            "10/10 [==============================] - 0s 5ms/step - loss: 0.6489 - mae: 0.6489 - mse: 0.6370 - val_loss: 0.7412 - val_mae: 0.7412 - val_mse: 0.7950\n",
            "Epoch 441/500\n",
            "10/10 [==============================] - 0s 4ms/step - loss: 0.6488 - mae: 0.6488 - mse: 0.6363 - val_loss: 0.7434 - val_mae: 0.7434 - val_mse: 0.7960\n",
            "Epoch 442/500\n",
            "10/10 [==============================] - 0s 4ms/step - loss: 0.6488 - mae: 0.6488 - mse: 0.6359 - val_loss: 0.7422 - val_mae: 0.7422 - val_mse: 0.7953\n",
            "Epoch 443/500\n",
            "10/10 [==============================] - 0s 4ms/step - loss: 0.6485 - mae: 0.6485 - mse: 0.6356 - val_loss: 0.7427 - val_mae: 0.7427 - val_mse: 0.7955\n",
            "Epoch 444/500\n",
            "10/10 [==============================] - 0s 5ms/step - loss: 0.6485 - mae: 0.6485 - mse: 0.6347 - val_loss: 0.7435 - val_mae: 0.7435 - val_mse: 0.7959\n",
            "Epoch 445/500\n",
            "10/10 [==============================] - 0s 4ms/step - loss: 0.6484 - mae: 0.6484 - mse: 0.6344 - val_loss: 0.7432 - val_mae: 0.7432 - val_mse: 0.7957\n",
            "Epoch 446/500\n",
            "10/10 [==============================] - 0s 4ms/step - loss: 0.6485 - mae: 0.6485 - mse: 0.6352 - val_loss: 0.7427 - val_mae: 0.7427 - val_mse: 0.7954\n",
            "Epoch 447/500\n",
            "10/10 [==============================] - 0s 4ms/step - loss: 0.6484 - mae: 0.6484 - mse: 0.6348 - val_loss: 0.7429 - val_mae: 0.7429 - val_mse: 0.7954\n",
            "Epoch 448/500\n",
            "10/10 [==============================] - 0s 4ms/step - loss: 0.6483 - mae: 0.6483 - mse: 0.6351 - val_loss: 0.7425 - val_mae: 0.7425 - val_mse: 0.7951\n",
            "Epoch 449/500\n",
            "10/10 [==============================] - 0s 7ms/step - loss: 0.6487 - mae: 0.6487 - mse: 0.6361 - val_loss: 0.7420 - val_mae: 0.7420 - val_mse: 0.7948\n",
            "Epoch 450/500\n",
            "10/10 [==============================] - 0s 5ms/step - loss: 0.6481 - mae: 0.6481 - mse: 0.6346 - val_loss: 0.7432 - val_mae: 0.7432 - val_mse: 0.7954\n",
            "Epoch 451/500\n",
            "10/10 [==============================] - 0s 4ms/step - loss: 0.6483 - mae: 0.6483 - mse: 0.6336 - val_loss: 0.7441 - val_mae: 0.7441 - val_mse: 0.7959\n",
            "Epoch 452/500\n",
            "10/10 [==============================] - 0s 4ms/step - loss: 0.6487 - mae: 0.6487 - mse: 0.6344 - val_loss: 0.7420 - val_mae: 0.7420 - val_mse: 0.7947\n",
            "Epoch 453/500\n",
            "10/10 [==============================] - 0s 5ms/step - loss: 0.6482 - mae: 0.6482 - mse: 0.6349 - val_loss: 0.7424 - val_mae: 0.7424 - val_mse: 0.7948\n",
            "Epoch 454/500\n",
            "10/10 [==============================] - 0s 5ms/step - loss: 0.6482 - mae: 0.6482 - mse: 0.6340 - val_loss: 0.7435 - val_mae: 0.7435 - val_mse: 0.7954\n",
            "Epoch 455/500\n",
            "10/10 [==============================] - 0s 4ms/step - loss: 0.6481 - mae: 0.6481 - mse: 0.6340 - val_loss: 0.7421 - val_mae: 0.7421 - val_mse: 0.7945\n",
            "Epoch 456/500\n",
            "10/10 [==============================] - 0s 4ms/step - loss: 0.6480 - mae: 0.6480 - mse: 0.6348 - val_loss: 0.7416 - val_mae: 0.7416 - val_mse: 0.7943\n",
            "Epoch 457/500\n",
            "10/10 [==============================] - 0s 5ms/step - loss: 0.6480 - mae: 0.6480 - mse: 0.6344 - val_loss: 0.7426 - val_mae: 0.7426 - val_mse: 0.7947\n",
            "Epoch 458/500\n",
            "10/10 [==============================] - 0s 4ms/step - loss: 0.6480 - mae: 0.6480 - mse: 0.6337 - val_loss: 0.7432 - val_mae: 0.7432 - val_mse: 0.7950\n",
            "Epoch 459/500\n",
            "10/10 [==============================] - 0s 5ms/step - loss: 0.6478 - mae: 0.6478 - mse: 0.6336 - val_loss: 0.7420 - val_mae: 0.7420 - val_mse: 0.7943\n",
            "Epoch 460/500\n",
            "10/10 [==============================] - 0s 4ms/step - loss: 0.6478 - mae: 0.6478 - mse: 0.6342 - val_loss: 0.7417 - val_mae: 0.7417 - val_mse: 0.7940\n",
            "Epoch 461/500\n",
            "10/10 [==============================] - 0s 5ms/step - loss: 0.6482 - mae: 0.6482 - mse: 0.6351 - val_loss: 0.7413 - val_mae: 0.7413 - val_mse: 0.7938\n",
            "Epoch 462/500\n",
            "10/10 [==============================] - 0s 4ms/step - loss: 0.6480 - mae: 0.6480 - mse: 0.6336 - val_loss: 0.7430 - val_mae: 0.7430 - val_mse: 0.7946\n",
            "Epoch 463/500\n",
            "10/10 [==============================] - 0s 4ms/step - loss: 0.6477 - mae: 0.6477 - mse: 0.6332 - val_loss: 0.7424 - val_mae: 0.7424 - val_mse: 0.7942\n",
            "Epoch 464/500\n",
            "10/10 [==============================] - 0s 5ms/step - loss: 0.6476 - mae: 0.6476 - mse: 0.6335 - val_loss: 0.7417 - val_mae: 0.7417 - val_mse: 0.7938\n",
            "Epoch 465/500\n",
            "10/10 [==============================] - 0s 4ms/step - loss: 0.6476 - mae: 0.6476 - mse: 0.6333 - val_loss: 0.7425 - val_mae: 0.7425 - val_mse: 0.7942\n",
            "Epoch 466/500\n",
            "10/10 [==============================] - 0s 7ms/step - loss: 0.6476 - mae: 0.6476 - mse: 0.6333 - val_loss: 0.7415 - val_mae: 0.7415 - val_mse: 0.7936\n",
            "Epoch 467/500\n",
            "10/10 [==============================] - 0s 6ms/step - loss: 0.6476 - mae: 0.6476 - mse: 0.6339 - val_loss: 0.7414 - val_mae: 0.7414 - val_mse: 0.7935\n",
            "Epoch 468/500\n",
            "10/10 [==============================] - 0s 6ms/step - loss: 0.6476 - mae: 0.6476 - mse: 0.6331 - val_loss: 0.7430 - val_mae: 0.7430 - val_mse: 0.7943\n",
            "Epoch 469/500\n",
            "10/10 [==============================] - 0s 4ms/step - loss: 0.6475 - mae: 0.6475 - mse: 0.6323 - val_loss: 0.7429 - val_mae: 0.7429 - val_mse: 0.7942\n",
            "Epoch 470/500\n",
            "10/10 [==============================] - 0s 5ms/step - loss: 0.6476 - mae: 0.6476 - mse: 0.6324 - val_loss: 0.7419 - val_mae: 0.7419 - val_mse: 0.7936\n",
            "Epoch 471/500\n",
            "10/10 [==============================] - 0s 5ms/step - loss: 0.6473 - mae: 0.6473 - mse: 0.6331 - val_loss: 0.7414 - val_mae: 0.7414 - val_mse: 0.7933\n",
            "Epoch 472/500\n",
            "10/10 [==============================] - 0s 4ms/step - loss: 0.6475 - mae: 0.6475 - mse: 0.6339 - val_loss: 0.7408 - val_mae: 0.7408 - val_mse: 0.7929\n",
            "Epoch 473/500\n",
            "10/10 [==============================] - 0s 5ms/step - loss: 0.6473 - mae: 0.6473 - mse: 0.6335 - val_loss: 0.7416 - val_mae: 0.7416 - val_mse: 0.7933\n",
            "Epoch 474/500\n",
            "10/10 [==============================] - 0s 5ms/step - loss: 0.6473 - mae: 0.6473 - mse: 0.6323 - val_loss: 0.7424 - val_mae: 0.7424 - val_mse: 0.7936\n",
            "Epoch 475/500\n",
            "10/10 [==============================] - 0s 4ms/step - loss: 0.6471 - mae: 0.6471 - mse: 0.6323 - val_loss: 0.7412 - val_mae: 0.7412 - val_mse: 0.7930\n",
            "Epoch 476/500\n",
            "10/10 [==============================] - 0s 5ms/step - loss: 0.6474 - mae: 0.6474 - mse: 0.6333 - val_loss: 0.7413 - val_mae: 0.7413 - val_mse: 0.7930\n",
            "Epoch 477/500\n",
            "10/10 [==============================] - 0s 4ms/step - loss: 0.6473 - mae: 0.6473 - mse: 0.6333 - val_loss: 0.7407 - val_mae: 0.7407 - val_mse: 0.7926\n",
            "Epoch 478/500\n",
            "10/10 [==============================] - 0s 5ms/step - loss: 0.6472 - mae: 0.6472 - mse: 0.6327 - val_loss: 0.7423 - val_mae: 0.7423 - val_mse: 0.7934\n",
            "Epoch 479/500\n",
            "10/10 [==============================] - 0s 5ms/step - loss: 0.6470 - mae: 0.6470 - mse: 0.6316 - val_loss: 0.7421 - val_mae: 0.7421 - val_mse: 0.7932\n",
            "Epoch 480/500\n",
            "10/10 [==============================] - 0s 6ms/step - loss: 0.6474 - mae: 0.6474 - mse: 0.6331 - val_loss: 0.7405 - val_mae: 0.7405 - val_mse: 0.7924\n",
            "Epoch 481/500\n",
            "10/10 [==============================] - 0s 5ms/step - loss: 0.6470 - mae: 0.6470 - mse: 0.6328 - val_loss: 0.7410 - val_mae: 0.7410 - val_mse: 0.7925\n",
            "Epoch 482/500\n",
            "10/10 [==============================] - 0s 5ms/step - loss: 0.6471 - mae: 0.6471 - mse: 0.6322 - val_loss: 0.7424 - val_mae: 0.7424 - val_mse: 0.7932\n",
            "Epoch 483/500\n",
            "10/10 [==============================] - 0s 4ms/step - loss: 0.6474 - mae: 0.6474 - mse: 0.6313 - val_loss: 0.7430 - val_mae: 0.7430 - val_mse: 0.7935\n",
            "Epoch 484/500\n",
            "10/10 [==============================] - 0s 4ms/step - loss: 0.6468 - mae: 0.6468 - mse: 0.6308 - val_loss: 0.7408 - val_mae: 0.7408 - val_mse: 0.7923\n",
            "Epoch 485/500\n",
            "10/10 [==============================] - 0s 5ms/step - loss: 0.6468 - mae: 0.6468 - mse: 0.6321 - val_loss: 0.7409 - val_mae: 0.7409 - val_mse: 0.7922\n",
            "Epoch 486/500\n",
            "10/10 [==============================] - 0s 4ms/step - loss: 0.6469 - mae: 0.6469 - mse: 0.6326 - val_loss: 0.7405 - val_mae: 0.7405 - val_mse: 0.7920\n",
            "Epoch 487/500\n",
            "10/10 [==============================] - 0s 4ms/step - loss: 0.6467 - mae: 0.6467 - mse: 0.6321 - val_loss: 0.7409 - val_mae: 0.7409 - val_mse: 0.7921\n",
            "Epoch 488/500\n",
            "10/10 [==============================] - 0s 5ms/step - loss: 0.6468 - mae: 0.6468 - mse: 0.6315 - val_loss: 0.7425 - val_mae: 0.7425 - val_mse: 0.7929\n",
            "Epoch 489/500\n",
            "10/10 [==============================] - 0s 5ms/step - loss: 0.6472 - mae: 0.6472 - mse: 0.6324 - val_loss: 0.7403 - val_mae: 0.7403 - val_mse: 0.7917\n",
            "Epoch 490/500\n",
            "10/10 [==============================] - 0s 5ms/step - loss: 0.6466 - mae: 0.6466 - mse: 0.6316 - val_loss: 0.7416 - val_mae: 0.7416 - val_mse: 0.7923\n",
            "Epoch 491/500\n",
            "10/10 [==============================] - 0s 4ms/step - loss: 0.6467 - mae: 0.6467 - mse: 0.6311 - val_loss: 0.7407 - val_mae: 0.7407 - val_mse: 0.7918\n",
            "Epoch 492/500\n",
            "10/10 [==============================] - 0s 4ms/step - loss: 0.6465 - mae: 0.6465 - mse: 0.6317 - val_loss: 0.7404 - val_mae: 0.7404 - val_mse: 0.7916\n",
            "Epoch 493/500\n",
            "10/10 [==============================] - 0s 4ms/step - loss: 0.6465 - mae: 0.6465 - mse: 0.6315 - val_loss: 0.7407 - val_mae: 0.7407 - val_mse: 0.7917\n",
            "Epoch 494/500\n",
            "10/10 [==============================] - 0s 5ms/step - loss: 0.6464 - mae: 0.6464 - mse: 0.6307 - val_loss: 0.7416 - val_mae: 0.7416 - val_mse: 0.7921\n",
            "Epoch 495/500\n",
            "10/10 [==============================] - 0s 4ms/step - loss: 0.6465 - mae: 0.6465 - mse: 0.6307 - val_loss: 0.7417 - val_mae: 0.7417 - val_mse: 0.7921\n",
            "Epoch 496/500\n",
            "10/10 [==============================] - 0s 4ms/step - loss: 0.6463 - mae: 0.6463 - mse: 0.6303 - val_loss: 0.7412 - val_mae: 0.7412 - val_mse: 0.7917\n",
            "Epoch 497/500\n",
            "10/10 [==============================] - 0s 4ms/step - loss: 0.6468 - mae: 0.6468 - mse: 0.6319 - val_loss: 0.7397 - val_mae: 0.7397 - val_mse: 0.7910\n",
            "Epoch 498/500\n",
            "10/10 [==============================] - 0s 4ms/step - loss: 0.6463 - mae: 0.6463 - mse: 0.6314 - val_loss: 0.7409 - val_mae: 0.7409 - val_mse: 0.7915\n",
            "Epoch 499/500\n",
            "10/10 [==============================] - 0s 6ms/step - loss: 0.6463 - mae: 0.6463 - mse: 0.6301 - val_loss: 0.7418 - val_mae: 0.7418 - val_mse: 0.7919\n",
            "Epoch 500/500\n",
            "10/10 [==============================] - 0s 5ms/step - loss: 0.6462 - mae: 0.6462 - mse: 0.6297 - val_loss: 0.7412 - val_mae: 0.7412 - val_mse: 0.7915\n"
          ],
          "name": "stdout"
        }
      ]
    },
    {
      "cell_type": "code",
      "metadata": {
        "colab": {
          "base_uri": "https://localhost:8080/"
        },
        "id": "05JxGDxvbW4F",
        "outputId": "eb534c72-3e8f-4307-b9ee-069562266b3f"
      },
      "source": [
        "model.summary()"
      ],
      "execution_count": 116,
      "outputs": [
        {
          "output_type": "stream",
          "text": [
            "Model: \"sequential_1\"\n",
            "_________________________________________________________________\n",
            "Layer (type)                 Output Shape              Param #   \n",
            "=================================================================\n",
            "dense_1 (Dense)              (None, 1)                 2         \n",
            "=================================================================\n",
            "Total params: 2\n",
            "Trainable params: 2\n",
            "Non-trainable params: 0\n",
            "_________________________________________________________________\n"
          ],
          "name": "stdout"
        }
      ]
    },
    {
      "cell_type": "code",
      "metadata": {
        "id": "sP-D2MCRb2Wr"
      },
      "source": [
        "#tempstring='loss'\n",
        "def curvePlots(tempString):\n",
        "  plt.plot(history.history[tempString])\n",
        "  plt.plot(history.history[f'val_{tempString}'])\n",
        "  plt.xlabel('NumEpochs')\n",
        "  plt.ylabel(tempString)\n",
        "  plt.legend([tempString,f'val_{tempString}'])\n",
        "  plt.show()"
      ],
      "execution_count": 117,
      "outputs": []
    },
    {
      "cell_type": "code",
      "metadata": {
        "colab": {
          "base_uri": "https://localhost:8080/",
          "height": 1000
        },
        "id": "VtlxRi1UdZUy",
        "outputId": "6af23a49-53a4-42b3-e975-f39c1a33c31c"
      },
      "source": [
        "curvePlots('mse')\n",
        "curvePlots('mae')\n",
        "curvePlots('loss')"
      ],
      "execution_count": 118,
      "outputs": [
        {
          "output_type": "display_data",
          "data": {
            "image/png": "[encoded data removed]",
            "text/plain": [
              "<Figure size 576x396 with 1 Axes>"
            ]
          },
          "metadata": {
            "tags": []
          }
        },
        {
          "output_type": "display_data",
          "data": {
            "image/png": "[encoded data removed]",
            "text/plain": [
              "<Figure size 576x396 with 1 Axes>"
            ]
          },
          "metadata": {
            "tags": []
          }
        },
        {
          "output_type": "display_data",
          "data": {
            "image/png": "[encoded data removed]",
            "text/plain": [
              "<Figure size 576x396 with 1 Axes>"
            ]
          },
          "metadata": {
            "tags": []
          }
        }
      ]
    },
    {
      "cell_type": "code",
      "metadata": {
        "colab": {
          "base_uri": "https://localhost:8080/"
        },
        "id": "YiZPjt6PeY5u",
        "outputId": "461db177-9469-4b8a-87b8-0dfd308ef16a"
      },
      "source": [
        "model.predict([1])"
      ],
      "execution_count": 119,
      "outputs": [
        {
          "output_type": "execute_result",
          "data": {
            "text/plain": [
              "array([[-0.5113231]], dtype=float32)"
            ]
          },
          "metadata": {
            "tags": []
          },
          "execution_count": 119
        }
      ]
    },
    {
      "cell_type": "code",
      "metadata": {
        "id": "IRWPRWLoeh9W",
        "colab": {
          "base_uri": "https://localhost:8080/"
        },
        "outputId": "0784a257-7196-478a-d206-74d820420780"
      },
      "source": [
        "print(f'Prediction for input value 1:(model.predict([1])')\n",
        "tempListforPreds=[1,2,3,4,5]\n",
        "print(f'''\n",
        "\n",
        "input List={tempListforPreds}\n",
        "\n",
        "List of Predictions:\n",
        "{model.predict(tempListforPreds)}\n",
        "\n",
        "List of Predictions(flattened out):\n",
        "{model.predict(tempListforPreds).flatten()}\n",
        "''')"
      ],
      "execution_count": 121,
      "outputs": [
        {
          "output_type": "stream",
          "text": [
            "Prediction for input value 1:(model.predict([1])\n",
            "\n",
            "\n",
            "input List=[1, 2, 3, 4, 5]\n",
            "\n",
            "List of Predictions:\n",
            "[[-0.5113231 ]\n",
            " [ 0.01168799]\n",
            " [ 0.5346991 ]\n",
            " [ 1.0577102 ]\n",
            " [ 1.5807214 ]]\n",
            "\n",
            "List of Predictions(flattened out):\n",
            "[-0.5113231   0.01168799  0.5346991   1.0577102   1.5807214 ]\n",
            "\n"
          ],
          "name": "stdout"
        }
      ]
    },
    {
      "cell_type": "code",
      "metadata": {
        "id": "JbNEgS_ByNNV"
      },
      "source": [
        "testPreds=model.predict(testFeatures).flatten()"
      ],
      "execution_count": 122,
      "outputs": []
    },
    {
      "cell_type": "code",
      "metadata": {
        "colab": {
          "base_uri": "https://localhost:8080/"
        },
        "id": "vn142WfmyaO-",
        "outputId": "cd551f0a-c19d-4e63-cbb6-ed49a49e300a"
      },
      "source": [
        "print(len(testPreds))"
      ],
      "execution_count": 123,
      "outputs": [
        {
          "output_type": "stream",
          "text": [
            "80\n"
          ],
          "name": "stdout"
        }
      ]
    },
    {
      "cell_type": "code",
      "metadata": {
        "colab": {
          "base_uri": "https://localhost:8080/"
        },
        "id": "yyrwhw4bylAW",
        "outputId": "b22b2afd-bbba-47e9-f6a1-3baa6633e350"
      },
      "source": [
        "print(testPreds)"
      ],
      "execution_count": 124,
      "outputs": [
        {
          "output_type": "stream",
          "text": [
            "[3.4635615 3.9865723 2.7313457 3.3066578 3.88197   2.888249  2.9928513\n",
            " 3.4112601 4.038873  3.202056  2.94055   4.007493  3.9081206 3.787828\n",
            " 3.9081206 3.2961974 3.2229762 2.9719305 3.6100044 3.557703  3.693686\n",
            " 2.8673286 3.5890841 3.9238105 3.5210924 3.7250671 3.4897118 3.7302966\n",
            " 3.8192086 3.4426408 3.6570754 3.740757  3.6570754 3.693686  3.5681634\n",
            " 3.7302966 3.6413846 3.9499612 3.4217205 3.322348  4.1487055 4.127785\n",
            " 3.7459874 3.547243  3.693686  3.4426408 3.6727657 3.4844818 3.3380384\n",
            " 3.505402  3.2386665 3.154985  3.4740214 3.8087487 3.683226  2.9667006\n",
            " 3.0817628 3.1340642 3.2177463 3.379879  3.2438965 3.322348  3.4321804\n",
            " 3.7302966 3.918581  3.5367827 2.851638  2.8045673 3.2386665 3.2125158\n",
            " 3.0922232 3.379879  3.793058  3.3275785 3.0869932 3.2752771 3.9970326\n",
            " 4.0597935 3.1288342 3.557703 ]\n"
          ],
          "name": "stdout"
        }
      ]
    },
    {
      "cell_type": "code",
      "metadata": {
        "colab": {
          "base_uri": "https://localhost:8080/",
          "height": 362
        },
        "id": "DHGcrDU8yrwU",
        "outputId": "dadf9ce7-2a46-4b7f-8274-a0ee07752e5e"
      },
      "source": [
        "def predPlot(labels,predictions):\n",
        " plt.scatter(labels,predictions)\n",
        " plt.ylabel('Predictions')\n",
        " plt.xlabel('True Value or Labels')\n",
        " plt.axis('equal')\n",
        " plt.axis('square')\n",
        " plt.xlim([0,plt.xlim()[1]])\n",
        " plt.ylim([0,plt.ylim()[1]])\n",
        " plt.show()\n",
        "\n",
        "predPlot(testLabels,testPreds)\n"
      ],
      "execution_count": 126,
      "outputs": [
        {
          "output_type": "display_data",
          "data": {
            "image/png": "[encoded data removed]",
            "text/plain": [
              "<Figure size 576x396 with 1 Axes>"
            ]
          },
          "metadata": {
            "tags": []
          }
        }
      ]
    },
    {
      "cell_type": "code",
      "metadata": {
        "colab": {
          "base_uri": "https://localhost:8080/",
          "height": 361
        },
        "id": "HyF31wlr0-YH",
        "outputId": "0a7d4e15-9dd3-43a1-87d4-1702f726ba82"
      },
      "source": [
        "def errorPlot(preds,labels,counts):\n",
        "  errors=preds-labels\n",
        "  plt.hist(errors,counts)\n",
        "  plt.xlabel('Error')\n",
        "  plt.ylabel('Counts')\n",
        "  plt.show()\n",
        "\n",
        "errorPlot(testPreds,testLabels,numEpochs)  "
      ],
      "execution_count": 127,
      "outputs": [
        {
          "output_type": "display_data",
          "data": {
            "image/png": "[encoded data removed]",
            "text/plain": [
              "<Figure size 576x396 with 1 Axes>"
            ]
          },
          "metadata": {
            "tags": []
          }
        }
      ]
    }
  ]
}